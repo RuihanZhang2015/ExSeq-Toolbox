{
 "cells": [
  {
   "cell_type": "code",
   "execution_count": null,
   "metadata": {},
   "outputs": [],
   "source": [
    "from  exm.puncta.args import Args\n",
    "project_path = '/mp/nas3/ruihan/20221218_zebrafish/'\n",
    "args = Args(project_path)"
   ]
  },
  {
   "attachments": {},
   "cell_type": "markdown",
   "metadata": {},
   "source": [
    "### Inspect 2D raw images"
   ]
  },
  {
   "cell_type": "code",
   "execution_count": null,
   "metadata": {},
   "outputs": [],
   "source": [
    "from exm.puncta.inspect import inspect_raw_plotly\n",
    "fov = \n",
    "code = \n",
    "c = \n",
    "ROI_min = \n",
    "ROI_max = \n",
    "inspect_raw_plotly(args,fov,code,c,ROI_min,ROI_max)"
   ]
  },
  {
   "cell_type": "code",
   "execution_count": null,
   "metadata": {},
   "outputs": [],
   "source": [
    "from exm.puncta.inspect import inspect_raw_matplotlib\n",
    "fov\n",
    "code\n",
    "c\n",
    "ROI_min\n",
    "ROI_max\n",
    "inspect_raw_matplotlib(args,fov,code,c,ROI_min,ROI_max)"
   ]
  }
 ],
 "metadata": {
  "language_info": {
   "name": "python"
  },
  "orig_nbformat": 4
 },
 "nbformat": 4,
 "nbformat_minor": 2
}
