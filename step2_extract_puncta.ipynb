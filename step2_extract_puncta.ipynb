{
 "cells": [
  {
   "cell_type": "code",
   "execution_count": 1,
   "metadata": {},
   "outputs": [],
   "source": [
    "from  exm.puncta.args import Args\n",
    "project_path = '/mp/nas3/ruihan/20221218_zebrafish/'\n",
    "args = Args(project_path)"
   ]
  },
  {
   "cell_type": "code",
   "execution_count": 2,
   "metadata": {},
   "outputs": [
    {
     "name": "stdout",
     "output_type": "stream",
     "text": [
      "Remaining tasks to process : 6\n",
      "Remaining tasks to process : 5\n",
      "Remaining tasks to process : 4\n",
      "Remaining tasks to process : 3\n",
      "Consolidate channels fov=7,code=1Consolidate channels fov=7,code=0\n",
      "\n",
      "Remaining tasks to process : 2Consolidate channels fov=7,code=2\n",
      "\n",
      "Consolidate channels fov=7,code=3\n",
      "Remaining tasks to process : 1\n",
      "Remaining tasks to process : 0\n",
      "Consolidate channels fov=7,code=4\n",
      "No task left for Process-8No task left for Process-9No task left for Process-10No task left for Process-11\n",
      "No task left for Process-12No task left for Process-13No task left for Process-14\n",
      "\n",
      "\n",
      "\n",
      "\n",
      "\n",
      "No task left for Process-15Consolidate channels fov=7,code=5\n",
      "\n",
      "No task left for Process-16Consolidate channels fov=7,code=6\n",
      "\n",
      "No task left for Process-17\n",
      "No task left for Process-18\n",
      "No task left for Process-19\n",
      "No task left for Process-20\n"
     ]
    },
    {
     "name": "stderr",
     "output_type": "stream",
     "text": [
      "Process Process-2:\n",
      "Traceback (most recent call last):\n",
      "  File \"/home/ruihan/anaconda3/envs/exm-toolbox/lib/python3.8/multiprocessing/process.py\", line 315, in _bootstrap\n",
      "    self.run()\n",
      "  File \"/home/ruihan/anaconda3/envs/exm-toolbox/lib/python3.8/multiprocessing/process.py\", line 108, in run\n",
      "    self._target(*self._args, **self._kwargs)\n",
      "  File \"/mp/nas2/ruihan/ExSeqProcessing2/exm/puncta/extract.py\", line 296, in f\n",
      "    consolidate_channels_function(args,fov,code)\n",
      "  File \"/mp/nas2/ruihan/ExSeqProcessing2/exm/puncta/extract.py\", line 258, in consolidate_channels_function\n",
      "    with h5py.File(args.h5_path.format(code,fov), 'r') as f:\n",
      "  File \"/home/ruihan/anaconda3/envs/exm-toolbox/lib/python3.8/site-packages/h5py/_hl/files.py\", line 507, in __init__\n",
      "    fid = make_fid(name, mode, userblock_size, fapl, fcpl, swmr=swmr)\n",
      "  File \"/home/ruihan/anaconda3/envs/exm-toolbox/lib/python3.8/site-packages/h5py/_hl/files.py\", line 220, in make_fid\n",
      "    fid = h5f.open(name, flags, fapl=fapl)\n",
      "  File \"h5py/_objects.pyx\", line 54, in h5py._objects.with_phil.wrapper\n",
      "  File \"h5py/_objects.pyx\", line 55, in h5py._objects.with_phil.wrapper\n",
      "  File \"h5py/h5f.pyx\", line 106, in h5py.h5f.open\n",
      "  File \"h5py/h5g.pyx\", line 271, in h5py.h5g.GroupID.__init__\n",
      "  File \"h5py/h5g.pyx\", line 272, in h5py.h5g.GroupID.__init__\n",
      "  File \"<frozen importlib._bootstrap>\", line 389, in parent\n",
      "KeyboardInterrupt\n",
      "Process Process-3:\n",
      "Traceback (most recent call last):\n",
      "  File \"/home/ruihan/anaconda3/envs/exm-toolbox/lib/python3.8/multiprocessing/process.py\", line 315, in _bootstrap\n",
      "    self.run()\n",
      "  File \"/home/ruihan/anaconda3/envs/exm-toolbox/lib/python3.8/multiprocessing/process.py\", line 108, in run\n",
      "    self._target(*self._args, **self._kwargs)\n",
      "  File \"/mp/nas2/ruihan/ExSeqProcessing2/exm/puncta/extract.py\", line 296, in f\n",
      "    consolidate_channels_function(args,fov,code)\n",
      "  File \"/mp/nas2/ruihan/ExSeqProcessing2/exm/puncta/extract.py\", line 240, in consolidate_channels_function\n",
      "    pairs = find_matching_points(point_cloud1,point_cloud2)\n",
      "  File \"/mp/nas2/ruihan/ExSeqProcessing2/exm/puncta/extract.py\", line 217, in find_matching_points\n",
      "    distance = cdist(temp1, temp2, 'euclidean')\n",
      "  File \"/home/ruihan/anaconda3/envs/exm-toolbox/lib/python3.8/site-packages/scipy/spatial/distance.py\", line 2954, in cdist\n",
      "    return cdist_fn(XA, XB, out=out, **kwargs)\n",
      "KeyboardInterrupt\n",
      "Process Process-7:\n"
     ]
    },
    {
     "ename": "KeyboardInterrupt",
     "evalue": "",
     "output_type": "error",
     "traceback": [
      "\u001b[0;31m---------------------------------------------------------------------------\u001b[0m",
      "\u001b[0;31mKeyboardInterrupt\u001b[0m                         Traceback (most recent call last)",
      "\u001b[1;32m/mp/nas2/ruihan/ExSeqProcessing2/step2_extract_puncta.ipynb Cell 2\u001b[0m in \u001b[0;36m<cell line: 3>\u001b[0;34m()\u001b[0m\n\u001b[1;32m      <a href='vscode-notebook-cell://ssh-remote%2Btuna.media.mit.edu/mp/nas2/ruihan/ExSeqProcessing2/step2_extract_puncta.ipynb#W1sdnNjb2RlLXJlbW90ZQ%3D%3D?line=0'>1</a>\u001b[0m \u001b[39mfrom\u001b[39;00m \u001b[39mexm\u001b[39;00m\u001b[39m.\u001b[39;00m\u001b[39mpuncta\u001b[39;00m\u001b[39m.\u001b[39;00m\u001b[39mextract\u001b[39;00m \u001b[39mimport\u001b[39;00m extract\n\u001b[1;32m      <a href='vscode-notebook-cell://ssh-remote%2Btuna.media.mit.edu/mp/nas2/ruihan/ExSeqProcessing2/step2_extract_puncta.ipynb#W1sdnNjb2RlLXJlbW90ZQ%3D%3D?line=1'>2</a>\u001b[0m fov_code_pairs \u001b[39m=\u001b[39m [[\u001b[39m7\u001b[39m,i] \u001b[39mfor\u001b[39;00m i \u001b[39min\u001b[39;00m \u001b[39mrange\u001b[39m(\u001b[39m7\u001b[39m)]\n\u001b[0;32m----> <a href='vscode-notebook-cell://ssh-remote%2Btuna.media.mit.edu/mp/nas2/ruihan/ExSeqProcessing2/step2_extract_puncta.ipynb#W1sdnNjb2RlLXJlbW90ZQ%3D%3D?line=2'>3</a>\u001b[0m extract(args, fov_code_pairs, use_gpu \u001b[39m=\u001b[39;49m \u001b[39mFalse\u001b[39;49;00m)\n",
      "File \u001b[0;32m/mp/nas2/ruihan/ExSeqProcessing2/exm/puncta/extract.py:353\u001b[0m, in \u001b[0;36mextract\u001b[0;34m(args, fov_code_pairs, use_gpu, num_gpu, num_cpu)\u001b[0m\n\u001b[1;32m    338\u001b[0m tasks_queue \u001b[39m=\u001b[39m Queue() \n\u001b[1;32m    340\u001b[0m \u001b[39m# Add all the extraction tasks to the queue.\u001b[39;00m\n\u001b[1;32m    341\u001b[0m \u001b[39m# for fov,code in fov_code_pairs:\u001b[39;00m\n\u001b[1;32m    342\u001b[0m \u001b[39m#     tasks_queue.put((fov,code))\u001b[39;00m\n\u001b[0;32m   (...)\u001b[0m\n\u001b[1;32m    350\u001b[0m \u001b[39m#     processing_device = 'CPU'\u001b[39;00m\n\u001b[1;32m    351\u001b[0m \u001b[39m#     puncta_extraction_cpu(args,tasks_queue,num_cpu)\u001b[39;00m\n\u001b[0;32m--> 353\u001b[0m consolidate_channels(args,fov_code_pairs)\n",
      "File \u001b[0;32m/mp/nas2/ruihan/ExSeqProcessing2/exm/puncta/extract.py:330\u001b[0m, in \u001b[0;36mconsolidate_channels\u001b[0;34m(args, fov_code_pairs)\u001b[0m\n\u001b[1;32m    327\u001b[0m     p\u001b[39m.\u001b[39mstart()\n\u001b[1;32m    329\u001b[0m \u001b[39mfor\u001b[39;00m p \u001b[39min\u001b[39;00m child_processes:\n\u001b[0;32m--> 330\u001b[0m     p\u001b[39m.\u001b[39;49mjoin()\n",
      "File \u001b[0;32m~/anaconda3/envs/exm-toolbox/lib/python3.8/multiprocessing/process.py:149\u001b[0m, in \u001b[0;36mBaseProcess.join\u001b[0;34m(self, timeout)\u001b[0m\n\u001b[1;32m    147\u001b[0m \u001b[39massert\u001b[39;00m \u001b[39mself\u001b[39m\u001b[39m.\u001b[39m_parent_pid \u001b[39m==\u001b[39m os\u001b[39m.\u001b[39mgetpid(), \u001b[39m'\u001b[39m\u001b[39mcan only join a child process\u001b[39m\u001b[39m'\u001b[39m\n\u001b[1;32m    148\u001b[0m \u001b[39massert\u001b[39;00m \u001b[39mself\u001b[39m\u001b[39m.\u001b[39m_popen \u001b[39mis\u001b[39;00m \u001b[39mnot\u001b[39;00m \u001b[39mNone\u001b[39;00m, \u001b[39m'\u001b[39m\u001b[39mcan only join a started process\u001b[39m\u001b[39m'\u001b[39m\n\u001b[0;32m--> 149\u001b[0m res \u001b[39m=\u001b[39m \u001b[39mself\u001b[39;49m\u001b[39m.\u001b[39;49m_popen\u001b[39m.\u001b[39;49mwait(timeout)\n\u001b[1;32m    150\u001b[0m \u001b[39mif\u001b[39;00m res \u001b[39mis\u001b[39;00m \u001b[39mnot\u001b[39;00m \u001b[39mNone\u001b[39;00m:\n\u001b[1;32m    151\u001b[0m     _children\u001b[39m.\u001b[39mdiscard(\u001b[39mself\u001b[39m)\n",
      "File \u001b[0;32m~/anaconda3/envs/exm-toolbox/lib/python3.8/multiprocessing/popen_fork.py:47\u001b[0m, in \u001b[0;36mPopen.wait\u001b[0;34m(self, timeout)\u001b[0m\n\u001b[1;32m     45\u001b[0m             \u001b[39mreturn\u001b[39;00m \u001b[39mNone\u001b[39;00m\n\u001b[1;32m     46\u001b[0m     \u001b[39m# This shouldn't block if wait() returned successfully.\u001b[39;00m\n\u001b[0;32m---> 47\u001b[0m     \u001b[39mreturn\u001b[39;00m \u001b[39mself\u001b[39;49m\u001b[39m.\u001b[39;49mpoll(os\u001b[39m.\u001b[39;49mWNOHANG \u001b[39mif\u001b[39;49;00m timeout \u001b[39m==\u001b[39;49m \u001b[39m0.0\u001b[39;49m \u001b[39melse\u001b[39;49;00m \u001b[39m0\u001b[39;49m)\n\u001b[1;32m     48\u001b[0m \u001b[39mreturn\u001b[39;00m \u001b[39mself\u001b[39m\u001b[39m.\u001b[39mreturncode\n",
      "File \u001b[0;32m~/anaconda3/envs/exm-toolbox/lib/python3.8/multiprocessing/popen_fork.py:27\u001b[0m, in \u001b[0;36mPopen.poll\u001b[0;34m(self, flag)\u001b[0m\n\u001b[1;32m     25\u001b[0m \u001b[39mif\u001b[39;00m \u001b[39mself\u001b[39m\u001b[39m.\u001b[39mreturncode \u001b[39mis\u001b[39;00m \u001b[39mNone\u001b[39;00m:\n\u001b[1;32m     26\u001b[0m     \u001b[39mtry\u001b[39;00m:\n\u001b[0;32m---> 27\u001b[0m         pid, sts \u001b[39m=\u001b[39m os\u001b[39m.\u001b[39;49mwaitpid(\u001b[39mself\u001b[39;49m\u001b[39m.\u001b[39;49mpid, flag)\n\u001b[1;32m     28\u001b[0m     \u001b[39mexcept\u001b[39;00m \u001b[39mOSError\u001b[39;00m \u001b[39mas\u001b[39;00m e:\n\u001b[1;32m     29\u001b[0m         \u001b[39m# Child process not yet created. See #1731717\u001b[39;00m\n\u001b[1;32m     30\u001b[0m         \u001b[39m# e.errno == errno.ECHILD == 10\u001b[39;00m\n\u001b[1;32m     31\u001b[0m         \u001b[39mreturn\u001b[39;00m \u001b[39mNone\u001b[39;00m\n",
      "\u001b[0;31mKeyboardInterrupt\u001b[0m: "
     ]
    },
    {
     "name": "stderr",
     "output_type": "stream",
     "text": [
      "Traceback (most recent call last):\n",
      "  File \"/home/ruihan/anaconda3/envs/exm-toolbox/lib/python3.8/multiprocessing/process.py\", line 315, in _bootstrap\n",
      "    self.run()\n",
      "  File \"/home/ruihan/anaconda3/envs/exm-toolbox/lib/python3.8/multiprocessing/process.py\", line 108, in run\n",
      "    self._target(*self._args, **self._kwargs)\n",
      "  File \"/mp/nas2/ruihan/ExSeqProcessing2/exm/puncta/extract.py\", line 296, in f\n",
      "    consolidate_channels_function(args,fov,code)\n",
      "  File \"/mp/nas2/ruihan/ExSeqProcessing2/exm/puncta/extract.py\", line 258, in consolidate_channels_function\n",
      "    with h5py.File(args.h5_path.format(code,fov), 'r') as f:\n",
      "  File \"/home/ruihan/anaconda3/envs/exm-toolbox/lib/python3.8/site-packages/h5py/_hl/files.py\", line 507, in __init__\n",
      "    fid = make_fid(name, mode, userblock_size, fapl, fcpl, swmr=swmr)\n",
      "  File \"/home/ruihan/anaconda3/envs/exm-toolbox/lib/python3.8/site-packages/h5py/_hl/files.py\", line 220, in make_fid\n",
      "    fid = h5f.open(name, flags, fapl=fapl)\n",
      "  File \"h5py/_objects.pyx\", line 54, in h5py._objects.with_phil.wrapper\n",
      "  File \"h5py/_objects.pyx\", line 55, in h5py._objects.with_phil.wrapper\n",
      "  File \"h5py/h5f.pyx\", line 106, in h5py.h5f.open\n",
      "  File \"h5py/h5g.pyx\", line 271, in h5py.h5g.GroupID.__init__\n",
      "  File \"h5py/h5g.pyx\", line 272, in h5py.h5g.GroupID.__init__\n"
     ]
    },
    {
     "name": "stderr",
     "output_type": "stream",
     "text": [
      "  File \"<frozen importlib._bootstrap>\", line 389, in parent\n",
      "KeyboardInterrupt\n",
      "Process Process-1:\n",
      "Traceback (most recent call last):\n",
      "  File \"/home/ruihan/anaconda3/envs/exm-toolbox/lib/python3.8/multiprocessing/process.py\", line 315, in _bootstrap\n",
      "    self.run()\n",
      "  File \"/home/ruihan/anaconda3/envs/exm-toolbox/lib/python3.8/multiprocessing/process.py\", line 108, in run\n",
      "    self._target(*self._args, **self._kwargs)\n",
      "  File \"/mp/nas2/ruihan/ExSeqProcessing2/exm/puncta/extract.py\", line 296, in f\n",
      "    consolidate_channels_function(args,fov,code)\n",
      "  File \"/mp/nas2/ruihan/ExSeqProcessing2/exm/puncta/extract.py\", line 240, in consolidate_channels_function\n",
      "    pairs = find_matching_points(point_cloud1,point_cloud2)\n",
      "  File \"/mp/nas2/ruihan/ExSeqProcessing2/exm/puncta/extract.py\", line 219, in find_matching_points\n",
      "    index2 = np.argmin(distance, axis = 0)\n",
      "  File \"<__array_function__ internals>\", line 180, in argmin\n",
      "  File \"/home/ruihan/anaconda3/envs/exm-toolbox/lib/python3.8/site-packages/numpy/core/fromnumeric.py\", line 1312, in argmin\n",
      "    return _wrapfunc(a, 'argmin', axis=axis, out=out, **kwds)\n",
      "  File \"/home/ruihan/anaconda3/envs/exm-toolbox/lib/python3.8/site-packages/numpy/core/fromnumeric.py\", line 57, in _wrapfunc\n",
      "    return bound(*args, **kwds)\n",
      "KeyboardInterrupt\n",
      "Process Process-4:\n",
      "Traceback (most recent call last):\n",
      "  File \"/home/ruihan/anaconda3/envs/exm-toolbox/lib/python3.8/multiprocessing/process.py\", line 315, in _bootstrap\n",
      "    self.run()\n",
      "  File \"/home/ruihan/anaconda3/envs/exm-toolbox/lib/python3.8/multiprocessing/process.py\", line 108, in run\n",
      "    self._target(*self._args, **self._kwargs)\n",
      "  File \"/mp/nas2/ruihan/ExSeqProcessing2/exm/puncta/extract.py\", line 296, in f\n",
      "    consolidate_channels_function(args,fov,code)\n",
      "  File \"/mp/nas2/ruihan/ExSeqProcessing2/exm/puncta/extract.py\", line 240, in consolidate_channels_function\n",
      "    pairs = find_matching_points(point_cloud1,point_cloud2)\n",
      "  File \"/mp/nas2/ruihan/ExSeqProcessing2/exm/puncta/extract.py\", line 219, in find_matching_points\n",
      "    index2 = np.argmin(distance, axis = 0)\n",
      "  File \"<__array_function__ internals>\", line 180, in argmin\n",
      "  File \"/home/ruihan/anaconda3/envs/exm-toolbox/lib/python3.8/site-packages/numpy/core/fromnumeric.py\", line 1312, in argmin\n",
      "    return _wrapfunc(a, 'argmin', axis=axis, out=out, **kwds)\n",
      "  File \"/home/ruihan/anaconda3/envs/exm-toolbox/lib/python3.8/site-packages/numpy/core/fromnumeric.py\", line 57, in _wrapfunc\n",
      "    return bound(*args, **kwds)\n",
      "KeyboardInterrupt\n",
      "Process Process-6:\n",
      "Traceback (most recent call last):\n",
      "  File \"/home/ruihan/anaconda3/envs/exm-toolbox/lib/python3.8/multiprocessing/process.py\", line 315, in _bootstrap\n",
      "    self.run()\n",
      "  File \"/home/ruihan/anaconda3/envs/exm-toolbox/lib/python3.8/multiprocessing/process.py\", line 108, in run\n",
      "    self._target(*self._args, **self._kwargs)\n",
      "  File \"/mp/nas2/ruihan/ExSeqProcessing2/exm/puncta/extract.py\", line 296, in f\n",
      "    consolidate_channels_function(args,fov,code)\n",
      "  File \"/mp/nas2/ruihan/ExSeqProcessing2/exm/puncta/extract.py\", line 240, in consolidate_channels_function\n",
      "    pairs = find_matching_points(point_cloud1,point_cloud2)\n",
      "  File \"/mp/nas2/ruihan/ExSeqProcessing2/exm/puncta/extract.py\", line 219, in find_matching_points\n",
      "    index2 = np.argmin(distance, axis = 0)\n",
      "  File \"<__array_function__ internals>\", line 180, in argmin\n",
      "  File \"/home/ruihan/anaconda3/envs/exm-toolbox/lib/python3.8/site-packages/numpy/core/fromnumeric.py\", line 1312, in argmin\n",
      "    return _wrapfunc(a, 'argmin', axis=axis, out=out, **kwds)\n",
      "  File \"/home/ruihan/anaconda3/envs/exm-toolbox/lib/python3.8/site-packages/numpy/core/fromnumeric.py\", line 57, in _wrapfunc\n",
      "    return bound(*args, **kwds)\n",
      "KeyboardInterrupt\n",
      "Process Process-5:\n",
      "Traceback (most recent call last):\n",
      "  File \"/home/ruihan/anaconda3/envs/exm-toolbox/lib/python3.8/multiprocessing/process.py\", line 315, in _bootstrap\n",
      "    self.run()\n",
      "  File \"/home/ruihan/anaconda3/envs/exm-toolbox/lib/python3.8/multiprocessing/process.py\", line 108, in run\n",
      "    self._target(*self._args, **self._kwargs)\n",
      "  File \"/mp/nas2/ruihan/ExSeqProcessing2/exm/puncta/extract.py\", line 296, in f\n",
      "    consolidate_channels_function(args,fov,code)\n",
      "  File \"/mp/nas2/ruihan/ExSeqProcessing2/exm/puncta/extract.py\", line 240, in consolidate_channels_function\n",
      "    pairs = find_matching_points(point_cloud1,point_cloud2)\n",
      "  File \"/mp/nas2/ruihan/ExSeqProcessing2/exm/puncta/extract.py\", line 217, in find_matching_points\n",
      "    distance = cdist(temp1, temp2, 'euclidean')\n",
      "  File \"/home/ruihan/anaconda3/envs/exm-toolbox/lib/python3.8/site-packages/scipy/spatial/distance.py\", line 2954, in cdist\n",
      "    return cdist_fn(XA, XB, out=out, **kwargs)\n",
      "KeyboardInterrupt\n"
     ]
    }
   ],
   "source": [
    "from exm.puncta.extract import extract\n",
    "fov_code_pairs = [[7,i] for i in range(7)]\n",
    "extract(args, fov_code_pairs, use_gpu = False)"
   ]
  },
  {
   "cell_type": "code",
   "execution_count": 4,
   "metadata": {},
   "outputs": [
    {
     "name": "stdout",
     "output_type": "stream",
     "text": [
      "Consolidate Code fov=7\n",
      "Code = 1\n",
      "Code = 2\n",
      "Code = 3\n",
      "Code = 4\n",
      "Code = 5\n",
      "Code = 6\n"
     ]
    }
   ],
   "source": [
    "from exm.puncta.extract import consolidate_codes\n",
    "fovs = [7]\n",
    "consolidate_codes(args,fovs)"
   ]
  },
  {
   "cell_type": "code",
   "execution_count": 3,
   "metadata": {},
   "outputs": [
    {
     "data": {
      "text/plain": [
       "range(0, 7)"
      ]
     },
     "execution_count": 3,
     "metadata": {},
     "output_type": "execute_result"
    }
   ],
   "source": [
    "args.codes"
   ]
  },
  {
   "cell_type": "code",
   "execution_count": null,
   "metadata": {},
   "outputs": [],
   "source": []
  }
 ],
 "metadata": {
  "kernelspec": {
   "display_name": "exm-toolbox",
   "language": "python",
   "name": "python3"
  },
  "language_info": {
   "codemirror_mode": {
    "name": "ipython",
    "version": 3
   },
   "file_extension": ".py",
   "mimetype": "text/x-python",
   "name": "python",
   "nbconvert_exporter": "python",
   "pygments_lexer": "ipython3",
   "version": "3.8.12"
  },
  "orig_nbformat": 4
 },
 "nbformat": 4,
 "nbformat_minor": 2
}
