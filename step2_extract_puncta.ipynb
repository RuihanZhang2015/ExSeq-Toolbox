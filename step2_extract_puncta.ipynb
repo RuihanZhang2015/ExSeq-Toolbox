{
 "cells": [
  {
   "cell_type": "code",
   "execution_count": 1,
   "metadata": {},
   "outputs": [],
   "source": [
    "from  exm.puncta.args import Args\n",
    "project_path = '/mp/nas3/ruihan/20221218_zebrafish/'\n",
    "args = Args(project_path)"
   ]
  },
  {
   "cell_type": "code",
   "execution_count": 2,
   "metadata": {},
   "outputs": [
    {
     "name": "stdout",
     "output_type": "stream",
     "text": [
      "Total tasks to process : 7\n",
      "Remaining tasks to process : 6\n",
      "Starting Fov:7, Code:0 on  Process-2Remaining tasks to process : 5\n",
      "\n",
      "Starting Fov:7, Code:1 on  Remaining tasks to process : 4Process-1\n",
      "\n",
      "Starting Fov:7, Code:2 on  Process-3\n"
     ]
    }
   ],
   "source": [
    "from exm.puncta.extract import extract\n",
    "fov_code_pairs = [[7,i] for i in range(7)]\n",
    "extract(args,fov_code_pairs,use_gpu=False)"
   ]
  },
  {
   "cell_type": "code",
   "execution_count": null,
   "metadata": {},
   "outputs": [
    {
     "name": "stdout",
     "output_type": "stream",
     "text": [
      "Consolidate Code fov=7\n"
     ]
    },
    {
     "ename": "FileNotFoundError",
     "evalue": "[Errno 2] No such file or directory: '/mp/nas3/ruihan/20221218_zebrafish/processed/fov7/result_code0.pkl'",
     "output_type": "error",
     "traceback": [
      "\u001b[0;31m---------------------------------------------------------------------------\u001b[0m",
      "\u001b[0;31mFileNotFoundError\u001b[0m                         Traceback (most recent call last)",
      "\u001b[1;32m/mp/nas2/ruihan/ExSeqProcessing2/step2_extract_puncta.ipynb Cell 3\u001b[0m in \u001b[0;36m<cell line: 3>\u001b[0;34m()\u001b[0m\n\u001b[1;32m      <a href='vscode-notebook-cell://ssh-remote%2Btuna.media.mit.edu/mp/nas2/ruihan/ExSeqProcessing2/step2_extract_puncta.ipynb#W2sdnNjb2RlLXJlbW90ZQ%3D%3D?line=0'>1</a>\u001b[0m \u001b[39mfrom\u001b[39;00m \u001b[39mexm\u001b[39;00m\u001b[39m.\u001b[39;00m\u001b[39mpuncta\u001b[39;00m\u001b[39m.\u001b[39;00m\u001b[39mextract\u001b[39;00m \u001b[39mimport\u001b[39;00m consolidate_codes\n\u001b[1;32m      <a href='vscode-notebook-cell://ssh-remote%2Btuna.media.mit.edu/mp/nas2/ruihan/ExSeqProcessing2/step2_extract_puncta.ipynb#W2sdnNjb2RlLXJlbW90ZQ%3D%3D?line=1'>2</a>\u001b[0m fovs \u001b[39m=\u001b[39m [\u001b[39m7\u001b[39m]\n\u001b[0;32m----> <a href='vscode-notebook-cell://ssh-remote%2Btuna.media.mit.edu/mp/nas2/ruihan/ExSeqProcessing2/step2_extract_puncta.ipynb#W2sdnNjb2RlLXJlbW90ZQ%3D%3D?line=2'>3</a>\u001b[0m consolidate_codes(args,fovs,codes\u001b[39m=\u001b[39;49m\u001b[39mrange\u001b[39;49m(\u001b[39m7\u001b[39;49m))\n",
      "File \u001b[0;32m/mp/nas2/ruihan/ExSeqProcessing2/exm/puncta/extract.py:421\u001b[0m, in \u001b[0;36mconsolidate_codes\u001b[0;34m(args, fovs, codes)\u001b[0m\n\u001b[1;32m    419\u001b[0m \u001b[39mfor\u001b[39;00m fov \u001b[39min\u001b[39;00m fovs:\n\u001b[1;32m    420\u001b[0m     \u001b[39mprint\u001b[39m(\u001b[39m'\u001b[39m\u001b[39mConsolidate Code fov=\u001b[39m\u001b[39m{}\u001b[39;00m\u001b[39m'\u001b[39m\u001b[39m.\u001b[39mformat(fov))\n\u001b[0;32m--> 421\u001b[0m     consolidate_codes_function(fov,codes)\n",
      "File \u001b[0;32m/mp/nas2/ruihan/ExSeqProcessing2/exm/puncta/extract.py:386\u001b[0m, in \u001b[0;36mconsolidate_codes.<locals>.consolidate_codes_function\u001b[0;34m(fov, codes)\u001b[0m\n\u001b[1;32m    383\u001b[0m     \u001b[39mreturn\u001b[39;00m pairs\n\u001b[1;32m    385\u001b[0m code \u001b[39m=\u001b[39m \u001b[39m0\u001b[39m\n\u001b[0;32m--> 386\u001b[0m \u001b[39mwith\u001b[39;00m \u001b[39mopen\u001b[39;49m(args\u001b[39m.\u001b[39;49mproject_path \u001b[39m+\u001b[39;49m \u001b[39m'\u001b[39;49m\u001b[39mprocessed/fov\u001b[39;49m\u001b[39m{}\u001b[39;49;00m\u001b[39m/result_code\u001b[39;49m\u001b[39m{}\u001b[39;49;00m\u001b[39m.pkl\u001b[39;49m\u001b[39m'\u001b[39;49m\u001b[39m.\u001b[39;49mformat(fov,code), \u001b[39m'\u001b[39;49m\u001b[39mrb\u001b[39;49m\u001b[39m'\u001b[39;49m) \u001b[39mas\u001b[39;00m f:\n\u001b[1;32m    387\u001b[0m     new \u001b[39m=\u001b[39m pickle\u001b[39m.\u001b[39mload(f)\n\u001b[1;32m    389\u001b[0m reference \u001b[39m=\u001b[39m [ { \u001b[39m'\u001b[39m\u001b[39mposition\u001b[39m\u001b[39m'\u001b[39m: x[\u001b[39m'\u001b[39m\u001b[39mposition\u001b[39m\u001b[39m'\u001b[39m], \u001b[39m'\u001b[39m\u001b[39mcode0\u001b[39m\u001b[39m'\u001b[39m:x } \u001b[39mfor\u001b[39;00m x \u001b[39min\u001b[39;00m new ] \n",
      "\u001b[0;31mFileNotFoundError\u001b[0m: [Errno 2] No such file or directory: '/mp/nas3/ruihan/20221218_zebrafish/processed/fov7/result_code0.pkl'"
     ]
    }
   ],
   "source": [
    "from exm.puncta.extract import consolidate_codes\n",
    "fovs = [7]\n",
    "consolidate_codes(args,fovs,codes=range(7))"
   ]
  },
  {
   "cell_type": "code",
   "execution_count": null,
   "metadata": {},
   "outputs": [],
   "source": []
  }
 ],
 "metadata": {
  "kernelspec": {
   "display_name": "exm-toolbox",
   "language": "python",
   "name": "python3"
  },
  "language_info": {
   "codemirror_mode": {
    "name": "ipython",
    "version": 3
   },
   "file_extension": ".py",
   "mimetype": "text/x-python",
   "name": "python",
   "nbconvert_exporter": "python",
   "pygments_lexer": "ipython3",
   "version": "3.8.12"
  },
  "orig_nbformat": 4
 },
 "nbformat": 4,
 "nbformat_minor": 2
}
