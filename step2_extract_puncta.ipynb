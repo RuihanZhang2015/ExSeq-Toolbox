{
 "cells": [
  {
   "cell_type": "code",
   "execution_count": 2,
   "metadata": {},
   "outputs": [
    {
     "ename": "EOFError",
     "evalue": "Ran out of input",
     "output_type": "error",
     "traceback": [
      "\u001b[0;31m---------------------------------------------------------------------------\u001b[0m",
      "\u001b[0;31mEOFError\u001b[0m                                  Traceback (most recent call last)",
      "\u001b[1;32m/mp/nas2/ruihan/ExSeqProcessing2/step2_extract_puncta.ipynb Cell 1\u001b[0m in \u001b[0;36m<cell line: 3>\u001b[0;34m()\u001b[0m\n\u001b[1;32m      <a href='vscode-notebook-cell://ssh-remote%2Btuna.media.mit.edu/mp/nas2/ruihan/ExSeqProcessing2/step2_extract_puncta.ipynb#W1sdnNjb2RlLXJlbW90ZQ%3D%3D?line=0'>1</a>\u001b[0m \u001b[39mfrom\u001b[39;00m  \u001b[39mexm\u001b[39;00m\u001b[39m.\u001b[39;00m\u001b[39mpuncta\u001b[39;00m\u001b[39m.\u001b[39;00m\u001b[39margs\u001b[39;00m \u001b[39mimport\u001b[39;00m Args\n\u001b[1;32m      <a href='vscode-notebook-cell://ssh-remote%2Btuna.media.mit.edu/mp/nas2/ruihan/ExSeqProcessing2/step2_extract_puncta.ipynb#W1sdnNjb2RlLXJlbW90ZQ%3D%3D?line=1'>2</a>\u001b[0m project_path \u001b[39m=\u001b[39m \u001b[39m'\u001b[39m\u001b[39m/mp/nas3/ruihan/20221218_zebrafish/\u001b[39m\u001b[39m'\u001b[39m\n\u001b[0;32m----> <a href='vscode-notebook-cell://ssh-remote%2Btuna.media.mit.edu/mp/nas2/ruihan/ExSeqProcessing2/step2_extract_puncta.ipynb#W1sdnNjb2RlLXJlbW90ZQ%3D%3D?line=2'>3</a>\u001b[0m args \u001b[39m=\u001b[39m Args(project_path)\n",
      "File \u001b[0;32m/mp/nas2/ruihan/ExSeqProcessing2/exm/puncta/args.py:22\u001b[0m, in \u001b[0;36mArgs.__init__\u001b[0;34m(self, project_path, codes, fovs, ref_code, thresholds)\u001b[0m\n\u001b[1;32m     20\u001b[0m \u001b[39mif\u001b[39;00m os\u001b[39m.\u001b[39mpath\u001b[39m.\u001b[39misfile(project_path \u001b[39m+\u001b[39m \u001b[39m'\u001b[39m\u001b[39margs.pkl\u001b[39m\u001b[39m'\u001b[39m):\n\u001b[1;32m     21\u001b[0m     \u001b[39mwith\u001b[39;00m \u001b[39mopen\u001b[39m(project_path \u001b[39m+\u001b[39m \u001b[39m'\u001b[39m\u001b[39margs.pkl\u001b[39m\u001b[39m'\u001b[39m,\u001b[39m'\u001b[39m\u001b[39mrb\u001b[39m\u001b[39m'\u001b[39m) \u001b[39mas\u001b[39;00m f:\n\u001b[0;32m---> 22\u001b[0m         \u001b[39mself\u001b[39m\u001b[39m.\u001b[39m\u001b[39m__dict__\u001b[39m\u001b[39m.\u001b[39mupdate(pickle\u001b[39m.\u001b[39;49mload(f))\n\u001b[1;32m     23\u001b[0m \u001b[39melse\u001b[39;00m:\n\u001b[1;32m     24\u001b[0m     \u001b[39mself\u001b[39m\u001b[39m.\u001b[39mproject_path \u001b[39m=\u001b[39m project_path\n",
      "\u001b[0;31mEOFError\u001b[0m: Ran out of input"
     ]
    }
   ],
   "source": [
    "from  exm.puncta.args import Args\n",
    "project_path = '/mp/nas3/ruihan/20221218_zebrafish/'\n",
    "args = Args(project_path)"
   ]
  },
  {
   "cell_type": "code",
   "execution_count": null,
   "metadata": {},
   "outputs": [],
   "source": [
    "from exm.puncta.extract import extract\n",
    "fov_code_pairs = [[7,1]]\n",
    "extract(args,fov_code_pairs,use_gpu=False)"
   ]
  },
  {
   "cell_type": "code",
   "execution_count": null,
   "metadata": {},
   "outputs": [
    {
     "ename": "EOFError",
     "evalue": "Ran out of input",
     "output_type": "error",
     "traceback": [
      "\u001b[0;31m---------------------------------------------------------------------------\u001b[0m",
      "\u001b[0;31mEOFError\u001b[0m                                  Traceback (most recent call last)",
      "\u001b[1;32m/mp/nas2/ruihan/ExSeqProcessing2/step2_extract_puncta.ipynb Cell 3\u001b[0m in \u001b[0;36m<cell line: 2>\u001b[0;34m()\u001b[0m\n\u001b[1;32m      <a href='vscode-notebook-cell://ssh-remote%2Btuna.media.mit.edu/mp/nas2/ruihan/ExSeqProcessing2/step2_extract_puncta.ipynb#W2sdnNjb2RlLXJlbW90ZQ%3D%3D?line=0'>1</a>\u001b[0m \u001b[39mimport\u001b[39;00m \u001b[39mpickle\u001b[39;00m \n\u001b[1;32m      <a href='vscode-notebook-cell://ssh-remote%2Btuna.media.mit.edu/mp/nas2/ruihan/ExSeqProcessing2/step2_extract_puncta.ipynb#W2sdnNjb2RlLXJlbW90ZQ%3D%3D?line=1'>2</a>\u001b[0m \u001b[39mwith\u001b[39;00m \u001b[39mopen\u001b[39m(\u001b[39m'\u001b[39m\u001b[39m/mp/nas3/ruihan/20221218_zebrafish/args.pkl\u001b[39m\u001b[39m'\u001b[39m,\u001b[39m'\u001b[39m\u001b[39mrb\u001b[39m\u001b[39m'\u001b[39m) \u001b[39mas\u001b[39;00m f:\n\u001b[0;32m----> <a href='vscode-notebook-cell://ssh-remote%2Btuna.media.mit.edu/mp/nas2/ruihan/ExSeqProcessing2/step2_extract_puncta.ipynb#W2sdnNjb2RlLXJlbW90ZQ%3D%3D?line=2'>3</a>\u001b[0m     pickle\u001b[39m.\u001b[39;49mload(f)\n",
      "\u001b[0;31mEOFError\u001b[0m: Ran out of input"
     ]
    }
   ],
   "source": [
    "import pickle \n",
    "with open('/mp/nas3/ruihan/20221218_zebrafish/args.pkl','rb') as f:\n",
    "    pickle.load(f)"
   ]
  },
  {
   "cell_type": "code",
   "execution_count": 6,
   "metadata": {},
   "outputs": [
    {
     "name": "stdout",
     "output_type": "stream",
     "text": [
      "chmod: changing permissions of ‘/mp/nas3/ruihan/20221218_zebrafish/args.pkl’: Operation not permitted\n"
     ]
    }
   ],
   "source": [
    "!chmod 777 -R /mp/nas3/ruihan/20221218_zebrafish/args.pkl"
   ]
  },
  {
   "cell_type": "code",
   "execution_count": null,
   "metadata": {},
   "outputs": [],
   "source": []
  }
 ],
 "metadata": {
  "kernelspec": {
   "display_name": "exm-toolbox",
   "language": "python",
   "name": "python3"
  },
  "language_info": {
   "codemirror_mode": {
    "name": "ipython",
    "version": 3
   },
   "file_extension": ".py",
   "mimetype": "text/x-python",
   "name": "python",
   "nbconvert_exporter": "python",
   "pygments_lexer": "ipython3",
   "version": "3.8.12"
  },
  "orig_nbformat": 4
 },
 "nbformat": 4,
 "nbformat_minor": 2
}
