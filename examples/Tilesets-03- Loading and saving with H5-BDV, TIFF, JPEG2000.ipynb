{
 "cells": [
  {
   "cell_type": "code",
   "execution_count": null,
   "id": "cc330550",
   "metadata": {},
   "outputs": [],
   "source": [
    "from exm.stitching.tileset import Tileset\n",
    "from exm.utils import display_img as di "
   ]
  },
  {
   "cell_type": "code",
   "execution_count": null,
   "id": "f24fe1bd",
   "metadata": {},
   "outputs": [],
   "source": [
    "example_nd2 = '/mp/nas2/ruihan/20221017_alignment/20221017_alignment_slice1_final.nd2'\n",
    "stitching_result = '/mp/nas3/fixstars/yves/zebrafish_data/20221017_alignment/stitching/slice1.xml'"
   ]
  },
  {
   "cell_type": "markdown",
   "id": "75089896",
   "metadata": {},
   "source": [
    "### init from ND2 files\n",
    "\n",
    "See the notebook Tilesets-01 for more details on ND2"
   ]
  },
  {
   "cell_type": "markdown",
   "id": "b3397c92",
   "metadata": {},
   "source": [
    "### `Tileset`'s structure\n",
    "\n",
    "Tilesets are composed of tiles accessible through the list `ts.tiles`. Each tile contains a `.img` which is a numpy array containing the image of the tile in the ZYX ordering and a `.offset` which contains a XYZ vector indicating the displacement of this tile from an origin places on the top left corner of the reconstructed volume.\n",
    "\n",
    "It is possible to access these fields directly to write and read them."
   ]
  },
  {
   "cell_type": "markdown",
   "id": "8ca1482c",
   "metadata": {},
   "source": [
    "### Init from TIFF files\n",
    "\n",
    "TIFF files are uncompressed raw images. They do not contain any offset data so we need to initialize offsets from a different source: a ND2 file or an XML file"
   ]
  },
  {
   "cell_type": "code",
   "execution_count": null,
   "id": "05b4a91f",
   "metadata": {},
   "outputs": [],
   "source": [
    "import os\n",
    "\n",
    "tiffdir = \"/mp/nas3/fixstars/yves/zebrafish_data/20221128/segmentation\"\n",
    "allfiles = os.listdir(tiffdir)\n",
    "fl = [f\"{tiffdir}/{f}\" for f in allfiles if f.startswith(\"seg_fov\") and f.endswith(\".tif\")]\n",
    "fl = sorted(fl)\n",
    "# for fn in fl:\n",
    "#     print(fn)"
   ]
  },
  {
   "cell_type": "code",
   "execution_count": null,
   "id": "7a21e89e",
   "metadata": {},
   "outputs": [],
   "source": [
    "ts=Tileset([0.1625*2, 0.1625*2, 0.4])\n",
    "ts.init_from_tiff_files(fl, downscale=[1,1,1], progress=True)"
   ]
  },
  {
   "cell_type": "code",
   "execution_count": null,
   "id": "491f18b9",
   "metadata": {},
   "outputs": [],
   "source": [
    "ts.update_offsets(\"/mp/nas3/fixstars/yves/zebrafish_data/20221128/stitching/example_output.xml\")"
   ]
  },
  {
   "cell_type": "code",
   "execution_count": null,
   "id": "8eabc314",
   "metadata": {},
   "outputs": [],
   "source": [
    "di(ts.show_slice(80))"
   ]
  },
  {
   "cell_type": "markdown",
   "id": "c68b4bf0",
   "metadata": {},
   "source": [
    "### Init from JPEG 2000 files\n",
    "\n",
    "Much lighter than TIFF files and potentially lossless, are JPEG 2000 files. We access them through the `glymur` library. Here again, they do not contain offset information (though it should be possible to hide some in the files metadata) so we need to provide offsets through a different mean. Here we use a `.npy` file that contains the meta data needed: original image sizes and offsets."
   ]
  },
  {
   "cell_type": "code",
   "execution_count": null,
   "id": "67d5dcc4",
   "metadata": {},
   "outputs": [],
   "source": [
    "jp2dir = \"/mp/nas3/fixstars/yves/zebrafish_data/20221017_alignment/compression/2023-01\"\n",
    "allfiles = os.listdir(jp2dir)\n",
    "fl = [f\"{jp2dir}/{f}\" for f in allfiles if f.startswith(\"20221017_alignment_slice1_final.nd2_fov\") and f.endswith(\".jp2\")]\n",
    "fl = sorted(fl)\n",
    "# for fn in fl:\n",
    "#     print(fn)"
   ]
  },
  {
   "cell_type": "code",
   "execution_count": null,
   "id": "7361a290",
   "metadata": {},
   "outputs": [],
   "source": [
    "ts=Tileset([0.1625*2, 0.1625*2, 0.4])\n",
    "ts.init_from_jp2(fl, f\"{jp2dir}/../20221017_alignment_slice1_final.nd2_offsets.npy\", downscale=[4,4,2])"
   ]
  },
  {
   "cell_type": "code",
   "execution_count": null,
   "id": "f777f4ae",
   "metadata": {},
   "outputs": [],
   "source": [
    "di(ts.show_slice(50).T)"
   ]
  },
  {
   "cell_type": "markdown",
   "id": "b6c79091",
   "metadata": {},
   "source": [
    "### Init from H5/BFV files\n",
    "\n",
    "It is also possible to initialize directly from the H5/XML files produced for and by Fiji. You can pass either the `.h5` or the `.xml` file as argument but it will expect them to be in the same directory."
   ]
  },
  {
   "cell_type": "code",
   "execution_count": null,
   "id": "9014ba96",
   "metadata": {},
   "outputs": [],
   "source": [
    "ts=Tileset([0.1625*2, 0.1625*2, 0.4])\n",
    "ts.init_from_bdv(\"/mp/nas3/fixstars/yves/zebrafish_data/20221128/segmentation/segmentation.h5\")"
   ]
  },
  {
   "cell_type": "code",
   "execution_count": null,
   "id": "cee306bb",
   "metadata": {},
   "outputs": [],
   "source": [
    "di(ts.show_slice(80))"
   ]
  },
  {
   "cell_type": "markdown",
   "id": "feae139a",
   "metadata": {},
   "source": [
    "### Init from H5 files\n",
    "\n",
    "Finally there is a possibility to load tiles directly from non-BDV H5 files. These are raw tiles with no offset information and require an external source for offsets. This was only used to read segmentation results from CellPose."
   ]
  },
  {
   "cell_type": "code",
   "execution_count": null,
   "id": "e9e34656",
   "metadata": {},
   "outputs": [],
   "source": [
    "ts=Tileset([0.1625*2, 0.1625*2, 0.4])\n",
    "ts.init_from_h5(\"/mp/nas2/mansour/20221017_alignment_masks/20221017_alignment_slice1_masks.h5\", \n",
    "                downscale=[5,5,2], progress=True)"
   ]
  },
  {
   "cell_type": "code",
   "execution_count": null,
   "id": "7b1f706b",
   "metadata": {},
   "outputs": [],
   "source": [
    "ts.update_offsets(\"/mp/nas3/fixstars/yves/zebrafish_data/20221017_alignment/stitching/slice1.xml\")"
   ]
  },
  {
   "cell_type": "code",
   "execution_count": null,
   "id": "ad5ddd79",
   "metadata": {},
   "outputs": [],
   "source": [
    "di(ts.show_slice(50).T)"
   ]
  },
  {
   "cell_type": "code",
   "execution_count": null,
   "id": "eccc1847",
   "metadata": {},
   "outputs": [],
   "source": []
  }
 ],
 "metadata": {
  "kernelspec": {
   "display_name": "Python 3 (ipykernel)",
   "language": "python",
   "name": "python3"
  },
  "language_info": {
   "codemirror_mode": {
    "name": "ipython",
    "version": 3
   },
   "file_extension": ".py",
   "mimetype": "text/x-python",
   "name": "python",
   "nbconvert_exporter": "python",
   "pygments_lexer": "ipython3",
   "version": "3.9.7"
  }
 },
 "nbformat": 4,
 "nbformat_minor": 5
}
