{
 "cells": [
  {
   "attachments": {},
   "cell_type": "markdown",
   "metadata": {},
   "source": [
    "### Prepare the args"
   ]
  },
  {
   "cell_type": "code",
   "execution_count": null,
   "metadata": {},
   "outputs": [],
   "source": [
    "from exm.args import Args\n",
    "\n",
    "project_path = '/mp/nas3/ruihan/20221218_zebrafish/'\n",
    "\n",
    "# init args \n",
    "args = Args()\n",
    "# set args \n",
    "args.set_params(project_path)"
   ]
  },
  {
   "attachments": {},
   "cell_type": "markdown",
   "metadata": {},
   "source": [
    "### Inspect 2D raw images"
   ]
  },
  {
   "cell_type": "code",
   "execution_count": null,
   "metadata": {},
   "outputs": [],
   "source": [
    "from exm.puncta.inspect import inspect_raw_matplotlib\n",
    "fov = 7\n",
    "code = 1\n",
    "channel = 2\n",
    "ROI_min = [300,1500,1500]\n",
    "ROI_max = [300,2000,2000]\n",
    "vmax = 700\n",
    "inspect_raw_matplotlib(args,fov,code,channel,ROI_min,ROI_max,vmax=vmax)"
   ]
  },
  {
   "cell_type": "code",
   "execution_count": null,
   "metadata": {},
   "outputs": [],
   "source": [
    "from exm.puncta.inspect import inspect_raw_plotly\n",
    "fov = 7\n",
    "code = 1\n",
    "channel = 2\n",
    "ROI_min = [300,1500,1500]\n",
    "ROI_max = [300,2000,2000]\n",
    "vmax = 700\n",
    "inspect_raw_plotly(args,fov,code,channel,ROI_min,ROI_max,vmax=vmax,export_file_name=\"inspect_row_code1_fov7\")"
   ]
  },
  {
   "cell_type": "markdown",
   "metadata": {},
   "source": [
    "### Inspect Local maximum"
   ]
  },
  {
   "cell_type": "code",
   "execution_count": null,
   "metadata": {},
   "outputs": [],
   "source": [
    "from exm.puncta.inspect import inspect_localmaximum_matplotlib\n",
    "fov = 7\n",
    "code = 1\n",
    "ROI_min = [300,1500,1500]\n",
    "ROI_max = [300,2000,2000]\n",
    "vmax = 700\n",
    "inspect_localmaximum_matplotlib(args,fov,code,ROI_min,ROI_max,vmax=vmax)"
   ]
  },
  {
   "cell_type": "code",
   "execution_count": null,
   "metadata": {},
   "outputs": [],
   "source": [
    "from exm.puncta.inspect import inspect_localmaximum_plotly\n",
    "fov = 7\n",
    "code = 1\n",
    "channel = 2\n",
    "ROI_min = [300,400,400]\n",
    "ROI_max = [300,500,500]\n",
    "inspect_localmaximum_plotly(args, fov, code, channel, ROI_min, ROI_max,export_file_name=\"inspect_localmaximum_plotly_Fov7\")"
   ]
  },
  {
   "attachments": {},
   "cell_type": "markdown",
   "metadata": {},
   "source": [
    "### Inspect puncta within an ROI for one code"
   ]
  },
  {
   "cell_type": "code",
   "execution_count": null,
   "metadata": {},
   "outputs": [],
   "source": [
    "from exm.puncta.inspect import inspect_puncta_ROI_matplotlib\n",
    "fov = 7\n",
    "code = 1\n",
    "position = [300,1900,1900]\n",
    "center_dist=40\n",
    "inspect_puncta_ROI_matplotlib(args, fov, code, position,center_dist=center_dist)"
   ]
  },
  {
   "cell_type": "code",
   "execution_count": null,
   "metadata": {},
   "outputs": [],
   "source": [
    "from exm.puncta.inspect import inspect_puncta_ROI_plotly\n",
    "fov = 7\n",
    "position = [300,1900,1900]\n",
    "center_dist=40\n",
    "inspect_puncta_ROI_plotly(args, fov, position,export_file_name=\"inspect_puncta_ROI_plotly_Fov7\")"
   ]
  },
  {
   "cell_type": "markdown",
   "metadata": {},
   "source": [
    "### Inspect ROI across rounds"
   ]
  },
  {
   "cell_type": "code",
   "execution_count": null,
   "metadata": {},
   "outputs": [],
   "source": [
    "from exm.puncta.inspect import inspect_between_rounds_plotly\n",
    "code1,code2 = 0, 6\n",
    "fov = 7\n",
    "ROI_min, ROI_max = [120,600,1500], [140,700,1600]\n",
    "inspect_between_rounds_plotly(args, fov, code1, code2, ROI_min, ROI_max,export_file_name=\"inspect_between_rounds_plotly_code0_code6\")"
   ]
  },
  {
   "cell_type": "code",
   "execution_count": null,
   "metadata": {},
   "outputs": [],
   "source": [
    "from exm.puncta.inspect import inspect_across_rounds_plotly\n",
    "fov = 7\n",
    "ROI_min, ROI_max = [120,600,1500], [140,700,1600]\n",
    "inspect_across_rounds_plotly(args, fov, ROI_min, ROI_max,export_file_name=\"inspect_across_rounds_plotly_fov7\")"
   ]
  },
  {
   "cell_type": "markdown",
   "metadata": {},
   "source": [
    "### Inspect puncta by index"
   ]
  },
  {
   "cell_type": "code",
   "execution_count": null,
   "metadata": {},
   "outputs": [],
   "source": [
    "from exm.utils import retrieve_one_puncta\n",
    "puncta_index = 10\n",
    "fov = 7\n",
    "retrieve_one_puncta(args,fov,puncta_index)"
   ]
  },
  {
   "cell_type": "code",
   "execution_count": null,
   "metadata": {},
   "outputs": [],
   "source": [
    "from exm.puncta.inspect import inspect_puncta_individual_matplotlib\n",
    "puncta_index = 10\n",
    "fov = 7\n",
    "inspect_puncta_individual_matplotlib(args, fov, puncta_index)"
   ]
  },
  {
   "cell_type": "code",
   "execution_count": null,
   "metadata": {},
   "outputs": [],
   "source": [
    "from exm.puncta.inspect import inspect_puncta_individual_plotly\n",
    "puncta_index = 10\n",
    "fov = 7\n",
    "inspect_puncta_individual_plotly(args, fov, puncta_index,export_file_name=\"inspect_puncta_individual_plotly_fov7_index10\")"
   ]
  }
 ],
 "metadata": {
  "kernelspec": {
   "display_name": "exm-toolbox",
   "language": "python",
   "name": "python3"
  },
  "language_info": {
   "codemirror_mode": {
    "name": "ipython",
    "version": 3
   },
   "file_extension": ".py",
   "mimetype": "text/x-python",
   "name": "python",
   "nbconvert_exporter": "python",
   "pygments_lexer": "ipython3",
   "version": "3.11.0"
  },
  "orig_nbformat": 4
 },
 "nbformat": 4,
 "nbformat_minor": 2
}
