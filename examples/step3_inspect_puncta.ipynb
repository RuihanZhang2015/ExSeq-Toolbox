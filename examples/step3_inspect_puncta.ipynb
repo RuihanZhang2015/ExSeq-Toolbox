{
 "cells": [
  {
   "cell_type": "code",
   "execution_count": 1,
   "metadata": {},
   "outputs": [],
   "source": [
    "from  exm.puncta.args import Args\n",
    "project_path = '/mp/nas3/ruihan/20221218_zebrafish/'\n",
    "args = Args(project_path)"
   ]
  },
  {
   "attachments": {},
   "cell_type": "markdown",
   "metadata": {},
   "source": [
    "### Inspect 2D raw images"
   ]
  },
  {
   "cell_type": "code",
   "execution_count": 2,
   "metadata": {},
   "outputs": [],
   "source": [
    "# from exm.puncta.inspect import inspect_raw_matplotlib\n",
    "# fov = 7\n",
    "# code = 1\n",
    "# c = 2\n",
    "# ROI_min = [300,1500,1500]\n",
    "# ROI_max = [300,2000,2000]\n",
    "# inspect_raw_matplotlib(args,fov,code,c,ROI_min,ROI_max)"
   ]
  },
  {
   "cell_type": "code",
   "execution_count": null,
   "metadata": {},
   "outputs": [],
   "source": [
    "# from exm.puncta.inspect import inspect_raw_plotly\n",
    "# fov = 7\n",
    "# code = 1\n",
    "# c = 2\n",
    "# ROI_min = [300,1500,1500]\n",
    "# ROI_max = [300,2000,2000]\n",
    "# inspect_raw_plotly(args,fov,code,c,ROI_min,ROI_max)"
   ]
  },
  {
   "cell_type": "markdown",
   "metadata": {},
   "source": [
    "### Inspect Local maximum"
   ]
  },
  {
   "cell_type": "code",
   "execution_count": 3,
   "metadata": {},
   "outputs": [],
   "source": [
    "# from exm.puncta.inspect import inspect_localmaximum_matplotlib\n",
    "# fov = 7\n",
    "# code = 1\n",
    "# ROI_min = [300,1500,1500]\n",
    "# ROI_max = [300,2000,2000]\n",
    "# inspect_localmaximum_matplotlib(args,fov,code,ROI_min,ROI_max)"
   ]
  },
  {
   "cell_type": "code",
   "execution_count": 4,
   "metadata": {},
   "outputs": [],
   "source": [
    "# from exm.puncta.inspect import inspect_localmaximum_plotly\n",
    "# fov = 7\n",
    "# code = 1\n",
    "# c = 2\n",
    "# ROI_min = [100,400,400]\n",
    "# ROI_max = [100,450,450]\n",
    "# inspect_localmaximum_plotly(args, fov, code, c, ROI_min, ROI_max)"
   ]
  },
  {
   "cell_type": "markdown",
   "metadata": {},
   "source": [
    "### Inspect"
   ]
  },
  {
   "cell_type": "code",
   "execution_count": 5,
   "metadata": {},
   "outputs": [],
   "source": [
    "# from exm.puncta.inspect import inspect_puncta_ROI_matplotlib\n",
    "# fov = 7\n",
    "# code = 1\n",
    "# position = [300,1900,1900]\n",
    "# inspect_puncta_ROI_matplotlib(args, fov, code, position)"
   ]
  },
  {
   "cell_type": "code",
   "execution_count": 6,
   "metadata": {},
   "outputs": [
    {
     "ename": "AttributeError",
     "evalue": "'Args' object has no attribute 'retrieve_result'",
     "output_type": "error",
     "traceback": [
      "\u001b[0;31m---------------------------------------------------------------------------\u001b[0m",
      "\u001b[0;31mAttributeError\u001b[0m                            Traceback (most recent call last)",
      "\u001b[1;32m/mp/nas2/ruihan/ExSeqProcessing2/step3_inspect_puncta.ipynb Cell 10\u001b[0m in \u001b[0;36m<cell line: 4>\u001b[0;34m()\u001b[0m\n\u001b[1;32m      <a href='vscode-notebook-cell://ssh-remote%2Btuna.media.mit.edu/mp/nas2/ruihan/ExSeqProcessing2/step3_inspect_puncta.ipynb#X12sdnNjb2RlLXJlbW90ZQ%3D%3D?line=1'>2</a>\u001b[0m fov \u001b[39m=\u001b[39m \u001b[39m7\u001b[39m\n\u001b[1;32m      <a href='vscode-notebook-cell://ssh-remote%2Btuna.media.mit.edu/mp/nas2/ruihan/ExSeqProcessing2/step3_inspect_puncta.ipynb#X12sdnNjb2RlLXJlbW90ZQ%3D%3D?line=2'>3</a>\u001b[0m position \u001b[39m=\u001b[39m [\u001b[39m300\u001b[39m,\u001b[39m1900\u001b[39m,\u001b[39m1900\u001b[39m]\n\u001b[0;32m----> <a href='vscode-notebook-cell://ssh-remote%2Btuna.media.mit.edu/mp/nas2/ruihan/ExSeqProcessing2/step3_inspect_puncta.ipynb#X12sdnNjb2RlLXJlbW90ZQ%3D%3D?line=3'>4</a>\u001b[0m inspect_puncta_ROI_plotly(args, fov, position)\n",
      "File \u001b[0;32m/mp/nas2/ruihan/ExSeqProcessing2/exm/puncta/inspect.py:192\u001b[0m, in \u001b[0;36minspect_puncta_ROI_plotly\u001b[0;34m(args, fov, position, c_list, centered)\u001b[0m\n\u001b[1;32m    190\u001b[0m ROI_min \u001b[39m=\u001b[39m [position[\u001b[39m0\u001b[39m]\u001b[39m-\u001b[39mcentered,position[\u001b[39m1\u001b[39m]\u001b[39m-\u001b[39mcentered,position[\u001b[39m2\u001b[39m]\u001b[39m-\u001b[39mcentered]\n\u001b[1;32m    191\u001b[0m ROI_max \u001b[39m=\u001b[39m [position[\u001b[39m0\u001b[39m]\u001b[39m+\u001b[39mcentered,position[\u001b[39m1\u001b[39m]\u001b[39m+\u001b[39mcentered,position[\u001b[39m2\u001b[39m]\u001b[39m+\u001b[39mcentered]\n\u001b[0;32m--> 192\u001b[0m reference \u001b[39m=\u001b[39m args\u001b[39m.\u001b[39;49mretrieve_result(fov)\n\u001b[1;32m    194\u001b[0m fig \u001b[39m=\u001b[39m go\u001b[39m.\u001b[39mFigure()\n\u001b[1;32m    196\u001b[0m \u001b[39mfor\u001b[39;00m i,code \u001b[39min\u001b[39;00m \u001b[39menumerate\u001b[39m(args\u001b[39m.\u001b[39mcodes):\n\u001b[1;32m    197\u001b[0m \n\u001b[1;32m    198\u001b[0m     \u001b[39m## Surface -------------\u001b[39;00m\n",
      "\u001b[0;31mAttributeError\u001b[0m: 'Args' object has no attribute 'retrieve_result'"
     ]
    }
   ],
   "source": [
    "from exm.puncta.inspect import inspect_puncta_ROI_plotly\n",
    "fov = 7\n",
    "position = [300,1900,1900]\n",
    "inspect_puncta_ROI_plotly(args, fov, position)"
   ]
  },
  {
   "cell_type": "code",
   "execution_count": null,
   "metadata": {},
   "outputs": [],
   "source": []
  }
 ],
 "metadata": {
  "kernelspec": {
   "display_name": "exm-toolbox",
   "language": "python",
   "name": "python3"
  },
  "language_info": {
   "codemirror_mode": {
    "name": "ipython",
    "version": 3
   },
   "file_extension": ".py",
   "mimetype": "text/x-python",
   "name": "python",
   "nbconvert_exporter": "python",
   "pygments_lexer": "ipython3",
   "version": "3.8.12"
  },
  "orig_nbformat": 4
 },
 "nbformat": 4,
 "nbformat_minor": 2
}
