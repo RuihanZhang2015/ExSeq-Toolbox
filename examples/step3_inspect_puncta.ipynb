{
 "cells": [
  {
   "cell_type": "code",
   "execution_count": null,
   "metadata": {},
   "outputs": [],
   "source": [
    "from  exm.puncta.args import Args\n",
    "project_path = '/mp/nas3/ruihan/20221218_zebrafish/'\n",
    "args = Args(project_path)"
   ]
  },
  {
   "attachments": {},
   "cell_type": "markdown",
   "metadata": {},
   "source": [
    "### Inspect 2D raw images"
   ]
  },
  {
   "cell_type": "code",
   "execution_count": null,
   "metadata": {},
   "outputs": [],
   "source": [
    "from exm.puncta.inspect import inspect_raw_matplotlib\n",
    "fov = 7\n",
    "code = 1\n",
    "c = 2\n",
    "ROI_min = [300,1500,1500]\n",
    "ROI_max = [300,2000,2000]\n",
    "inspect_raw_matplotlib(args,fov,code,c,ROI_min,ROI_max)"
   ]
  },
  {
   "cell_type": "code",
   "execution_count": null,
   "metadata": {},
   "outputs": [],
   "source": [
    "from exm.puncta.inspect import inspect_raw_plotly\n",
    "fov = 7\n",
    "code = 1\n",
    "c = 2\n",
    "ROI_min = [300,1500,1500]\n",
    "ROI_max = [300,2000,2000]\n",
    "inspect_raw_plotly(args,fov,code,c,ROI_min,ROI_max)"
   ]
  },
  {
   "cell_type": "markdown",
   "metadata": {},
   "source": [
    "### Inspect Local maximum"
   ]
  },
  {
   "cell_type": "code",
   "execution_count": null,
   "metadata": {},
   "outputs": [],
   "source": [
    "from exm.puncta.inspect import inspect_localmaximum_matplotlib\n",
    "fov = 7\n",
    "code = 1\n",
    "ROI_min = [300,1500,1500]\n",
    "ROI_max = [300,2000,2000]\n",
    "inspect_localmaximum_matplotlib(args,fov,code,ROI_min,ROI_max)"
   ]
  },
  {
   "cell_type": "code",
   "execution_count": null,
   "metadata": {},
   "outputs": [],
   "source": [
    "from exm.puncta.inspect import inspect_localmaximum_plotly\n",
    "fov = 7\n",
    "code = 1\n",
    "c = 2\n",
    "ROI_min = [100,400,400]\n",
    "ROI_max = [100,450,450]\n",
    "inspect_localmaximum_plotly(args, fov, code, c, ROI_min, ROI_max)"
   ]
  },
  {
   "attachments": {},
   "cell_type": "markdown",
   "metadata": {},
   "source": [
    "### Inspect puncta within an ROI for one code"
   ]
  },
  {
   "cell_type": "code",
   "execution_count": null,
   "metadata": {},
   "outputs": [],
   "source": [
    "from exm.puncta.inspect import inspect_puncta_ROI_matplotlib\n",
    "fov = 7\n",
    "code = 1\n",
    "position = [300,1900,1900]\n",
    "inspect_puncta_ROI_matplotlib(args, fov, code, position)"
   ]
  },
  {
   "cell_type": "code",
   "execution_count": null,
   "metadata": {},
   "outputs": [],
   "source": [
    "from exm.puncta.inspect import inspect_puncta_ROI_plotly\n",
    "fov = 7\n",
    "position = [300,1900,1900]\n",
    "inspect_puncta_ROI_plotly(args, fov, position)"
   ]
  },
  {
   "cell_type": "markdown",
   "metadata": {},
   "source": [
    "### Inspect ROI across rounds"
   ]
  },
  {
   "cell_type": "code",
   "execution_count": null,
   "metadata": {},
   "outputs": [],
   "source": [
    "from exm.puncta.inspect import inspect_between_rounds\n",
    "code1,code2 = 0, 6\n",
    "fov = 7\n",
    "ROI_min, ROI_max = [120,600,1500], [140,700,1600]\n",
    "inspect_between_rounds(args, fov, code1, code2, ROI_min, ROI_max)"
   ]
  },
  {
   "cell_type": "code",
   "execution_count": null,
   "metadata": {},
   "outputs": [],
   "source": [
    "from exm.puncta.inspect import inspect_across_rounds_plotly\n",
    "fov = 7\n",
    "ROI_min, ROI_max = [120,600,1500], [140,700,1600]\n",
    "inspect_across_rounds_plotly(args, fov, ROI_min, ROI_max)"
   ]
  },
  {
   "cell_type": "markdown",
   "metadata": {},
   "source": [
    "### Inspect puncta by index"
   ]
  },
  {
   "cell_type": "code",
   "execution_count": null,
   "metadata": {},
   "outputs": [],
   "source": [
    "puncta_index = 10\n",
    "fov = 7\n",
    "args.print_puncta(fov,puncta_index)"
   ]
  },
  {
   "cell_type": "code",
   "execution_count": null,
   "metadata": {},
   "outputs": [],
   "source": [
    "from exm.puncta.inspect import inspect_puncta_individual_matplotlib\n",
    "puncta_index = 10\n",
    "fov = 7\n",
    "inspect_puncta_individual_matplotlib(args, fov, puncta_index)"
   ]
  },
  {
   "cell_type": "code",
   "execution_count": null,
   "metadata": {},
   "outputs": [],
   "source": [
    "from exm.puncta.inspect import inspect_puncta_individual_plotly\n",
    "puncta_index = 10\n",
    "fov = 7\n",
    "inspect_puncta_individual_plotly(args, fov, puncta_index)"
   ]
  },
  {
   "cell_type": "code",
   "execution_count": null,
   "metadata": {},
   "outputs": [],
   "source": []
  }
 ],
 "metadata": {
  "kernelspec": {
   "display_name": "exm-toolbox",
   "language": "python",
   "name": "python3"
  },
  "language_info": {
   "codemirror_mode": {
    "name": "ipython",
    "version": 3
   },
   "file_extension": ".py",
   "mimetype": "text/x-python",
   "name": "python",
   "nbconvert_exporter": "python",
   "pygments_lexer": "ipython3",
   "version": "3.8.12"
  },
  "orig_nbformat": 4
 },
 "nbformat": 4,
 "nbformat_minor": 2
}
