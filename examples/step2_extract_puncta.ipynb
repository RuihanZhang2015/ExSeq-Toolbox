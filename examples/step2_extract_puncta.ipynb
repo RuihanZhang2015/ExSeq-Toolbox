{
 "cells": [
  {
   "attachments": {},
   "cell_type": "markdown",
   "metadata": {},
   "source": [
    "### Prepare the args"
   ]
  },
  {
   "cell_type": "code",
   "execution_count": null,
   "metadata": {},
   "outputs": [],
   "source": [
    "from exm.args import Args\n",
    "\n",
    "raw_data_path = '/mp/nas3/ruihan/20221218_zebrafish/'\n",
    "\n",
    "# init args \n",
    "args = Args()\n",
    "# set args \n",
    "args.set_params(raw_data_path)"
   ]
  },
  {
   "attachments": {},
   "cell_type": "markdown",
   "metadata": {},
   "source": [
    "### Extract Puncta CPU"
   ]
  },
  {
   "cell_type": "code",
   "execution_count": null,
   "metadata": {},
   "outputs": [],
   "source": [
    "from exm.puncta.extract import extract\n",
    "# [[code,fov],....]\n",
    "code_fov_pairs = [[i,0] for i in range(7)]\n",
    "extract(args, code_fov_pairs, use_gpu = False,num_cpu=8)"
   ]
  },
  {
   "attachments": {},
   "cell_type": "markdown",
   "metadata": {},
   "source": [
    "### Extract Puncta GPU"
   ]
  },
  {
   "cell_type": "code",
   "execution_count": null,
   "metadata": {},
   "outputs": [],
   "source": [
    "from exm.puncta.extract import extract\n",
    "# [[code,fov],....]\n",
    "code_fov_pairs = [[i,0] for i in range(7)]\n",
    "extract(args, code_fov_pairs, use_gpu = True)"
   ]
  },
  {
   "attachments": {},
   "cell_type": "markdown",
   "metadata": {},
   "source": [
    "### Consolidate Channels"
   ]
  },
  {
   "cell_type": "code",
   "execution_count": null,
   "metadata": {},
   "outputs": [],
   "source": [
    "from exm.puncta.consolidate import consolidate_channels\n",
    "# [[code,fov],....]\n",
    "code_fov_pairs = [[i,0] for i in range(7)]\n",
    "consolidate_channels(args,code_fov_pairs)"
   ]
  },
  {
   "attachments": {},
   "cell_type": "markdown",
   "metadata": {},
   "source": [
    "### Consolidate Codes"
   ]
  },
  {
   "cell_type": "code",
   "execution_count": null,
   "metadata": {},
   "outputs": [],
   "source": [
    "from exm.puncta.consolidate import consolidate_codes\n",
    "# [fov,....]\n",
    "fov_list = [i for i in range(7)]\n",
    "consolidate_codes(args,fov_list)"
   ]
  }
 ],
 "metadata": {
  "kernelspec": {
   "display_name": "exm-toolbox",
   "language": "python",
   "name": "python3"
  },
  "language_info": {
   "codemirror_mode": {
    "name": "ipython",
    "version": 3
   },
   "file_extension": ".py",
   "mimetype": "text/x-python",
   "name": "python",
   "nbconvert_exporter": "python",
   "pygments_lexer": "ipython3",
   "version": "3.11.0"
  },
  "orig_nbformat": 4
 },
 "nbformat": 4,
 "nbformat_minor": 2
}
