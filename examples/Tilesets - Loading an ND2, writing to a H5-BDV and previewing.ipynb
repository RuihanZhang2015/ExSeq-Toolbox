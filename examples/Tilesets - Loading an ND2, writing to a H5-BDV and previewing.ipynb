{
 "cells": [
  {
   "cell_type": "markdown",
   "id": "5f6b50ae",
   "metadata": {},
   "source": [
    "### Initialize a tileset from a ND2 file"
   ]
  },
  {
   "cell_type": "code",
   "execution_count": null,
   "id": "2875247e",
   "metadata": {},
   "outputs": [],
   "source": [
    "from exm.stitching.tileset import Tileset\n",
    "\n",
    "project_path = '/mp/nas3/ruihan/20221218_zebrafish/'\n",
    "nd2_file = f\"{project_path}/code0/Channel405 SD_Seq0004.nd2\"\n",
    "output_path = \"/tmp/\"\n",
    "\n",
    "# Provide the voxel size\n",
    "ts=Tileset([0.1625, 0.1625, 0.4])\n",
    "\n",
    "ts.init_from_nd2(nd2_file)"
   ]
  },
  {
   "cell_type": "markdown",
   "id": "75114242",
   "metadata": {},
   "source": [
    "### Preview a Z-slice"
   ]
  },
  {
   "cell_type": "code",
   "execution_count": null,
   "id": "df205e6d",
   "metadata": {},
   "outputs": [],
   "source": [
    "from exm.utils import display_img as di \n",
    "\n",
    "zslice = ts.preview_nd2(150)\n",
    "di(zslice.T)"
   ]
  },
  {
   "cell_type": "markdown",
   "id": "24de83f5",
   "metadata": {},
   "source": [
    "### Load a downscaled version of the tiles in memory"
   ]
  },
  {
   "cell_type": "code",
   "execution_count": null,
   "id": "b74e1a72",
   "metadata": {},
   "outputs": [],
   "source": [
    "ts.load_all(downscale=[2,4,4])"
   ]
  },
  {
   "cell_type": "markdown",
   "id": "1e2ba76d",
   "metadata": {},
   "source": [
    "### Scale intensities globally and converts to 8bpp"
   ]
  },
  {
   "cell_type": "code",
   "execution_count": null,
   "id": "ea807006",
   "metadata": {},
   "outputs": [],
   "source": [
    "ts.scale_intensity()"
   ]
  },
  {
   "cell_type": "markdown",
   "id": "fb0355ea",
   "metadata": {},
   "source": [
    "### Produce an output volume"
   ]
  },
  {
   "cell_type": "code",
   "execution_count": null,
   "id": "0ed91a4b",
   "metadata": {},
   "outputs": [],
   "source": [
    "vol = ts.produce_output_volume()"
   ]
  },
  {
   "cell_type": "code",
   "execution_count": null,
   "id": "bc74d3f6",
   "metadata": {},
   "outputs": [],
   "source": [
    "vol.shape"
   ]
  },
  {
   "cell_type": "code",
   "execution_count": null,
   "id": "b9ef2dd5",
   "metadata": {},
   "outputs": [],
   "source": [
    "di(vol[150//2].T)"
   ]
  },
  {
   "cell_type": "markdown",
   "id": "be87dd97",
   "metadata": {},
   "source": [
    "### Writing a H5/BDV file"
   ]
  },
  {
   "cell_type": "code",
   "execution_count": null,
   "id": "d84418fd",
   "metadata": {},
   "outputs": [],
   "source": [
    "ts.write_into_h5bdv(f\"{output_path}/example_output.h5\")"
   ]
  },
  {
   "cell_type": "markdown",
   "id": "0caadad2",
   "metadata": {},
   "source": [
    "### Steps to refine this stitching in Fiji\n",
    "\n",
    "1. Open Fiji\n",
    "2. Do NOT use File->Open but rather go to Plugins->BigStitcher->BigStitcher\n",
    "3. Select the XML file that was generated next to the H5 file. In our case `/tmp/example_output.xml`\n",
    "4. Select all the tiles in the Stitching Explorer window\n",
    "5. Right-click->Stitching wizard\n",
    "6. Click OK with the default parameters\n",
    "7. Say 'Yes' to \"Switch to preview mode\"\n",
    "8. Click \"Apply & Run Global Optimization\"\n",
    "9. Select the default strategy and click OK\n",
    "10. Click \"Save\" (It will overwrite `/tmp/example_output.xml`)"
   ]
  }
 ],
 "metadata": {
  "kernelspec": {
   "display_name": "Python 3 (ipykernel)",
   "language": "python",
   "name": "python3"
  },
  "language_info": {
   "codemirror_mode": {
    "name": "ipython",
    "version": 3
   },
   "file_extension": ".py",
   "mimetype": "text/x-python",
   "name": "python",
   "nbconvert_exporter": "python",
   "pygments_lexer": "ipython3",
   "version": "3.11.0"
  }
 },
 "nbformat": 4,
 "nbformat_minor": 5
}
