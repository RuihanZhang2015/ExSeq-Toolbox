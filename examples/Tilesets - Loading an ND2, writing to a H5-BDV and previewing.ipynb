{
 "cells": [
  {
   "cell_type": "markdown",
   "id": "5f6b50ae",
   "metadata": {},
   "source": [
    "### Initialize a tileset from a ND2 file"
   ]
  },
  {
   "cell_type": "code",
   "execution_count": null,
   "id": "2875247e",
   "metadata": {},
   "outputs": [],
   "source": [
    "from exm.stitching.tileset import Tileset\n",
    "\n",
    "project_path = \"/home/yves/Private/Fixstars/datasets/ZebrafishBrain/20221017_alignment/\"\n",
    "nd2_file = f\"{project_path}/20221017_alignment_slice1_final.nd2\"\n",
    "output_path = \"/tmp/\"\n",
    "\n",
    "# Provide the voxel size\n",
    "ts=Tileset([0.1625*2, 0.1625*2, 0.4])\n",
    "\n",
    "ts.init_from_nd2(nd2_file)"
   ]
  },
  {
   "cell_type": "markdown",
   "id": "75114242",
   "metadata": {},
   "source": [
    "### Preview a Z-slice"
   ]
  },
  {
   "cell_type": "code",
   "execution_count": null,
   "id": "df205e6d",
   "metadata": {},
   "outputs": [],
   "source": [
    "from exm.utils import display_img as di \n",
    "\n",
    "zslice = ts.preview_nd2(150)\n",
    "di(zslice.T)"
   ]
  },
  {
   "cell_type": "markdown",
   "id": "24de83f5",
   "metadata": {},
   "source": [
    "### Load a downscaled version of the tiles in memory"
   ]
  },
  {
   "cell_type": "code",
   "execution_count": null,
   "id": "b74e1a72",
   "metadata": {},
   "outputs": [],
   "source": [
    "ts.load_all(downscale=[2,4,4])"
   ]
  },
  {
   "cell_type": "markdown",
   "id": "1e2ba76d",
   "metadata": {},
   "source": [
    "### Scale intensities globally and converts to 8bpp"
   ]
  },
  {
   "cell_type": "code",
   "execution_count": null,
   "id": "ea807006",
   "metadata": {},
   "outputs": [],
   "source": [
    "ts.scale_intensity()"
   ]
  },
  {
   "cell_type": "markdown",
   "id": "fb0355ea",
   "metadata": {},
   "source": [
    "### Produce an output volume"
   ]
  },
  {
   "cell_type": "code",
   "execution_count": null,
   "id": "0ed91a4b",
   "metadata": {},
   "outputs": [],
   "source": [
    "vol = ts.produce_output_volume()"
   ]
  },
  {
   "cell_type": "code",
   "execution_count": null,
   "id": "bc74d3f6",
   "metadata": {},
   "outputs": [],
   "source": [
    "vol.shape"
   ]
  },
  {
   "cell_type": "code",
   "execution_count": null,
   "id": "b9ef2dd5",
   "metadata": {},
   "outputs": [],
   "source": [
    "di(vol[150//2].T)"
   ]
  },
  {
   "cell_type": "markdown",
   "id": "be87dd97",
   "metadata": {},
   "source": [
    "### Writing a H5/BDV file"
   ]
  },
  {
   "cell_type": "code",
   "execution_count": null,
   "id": "d84418fd",
   "metadata": {},
   "outputs": [],
   "source": [
    "ts.write_into_h5bdv(f\"{output_path}/example_output.h5\")"
   ]
  },
  {
   "cell_type": "code",
   "execution_count": null,
   "id": "3c0c0ac3",
   "metadata": {},
   "outputs": [],
   "source": []
  }
 ],
 "metadata": {
  "kernelspec": {
   "display_name": "Python 3 (ipykernel)",
   "language": "python",
   "name": "python3"
  },
  "language_info": {
   "codemirror_mode": {
    "name": "ipython",
    "version": 3
   },
   "file_extension": ".py",
   "mimetype": "text/x-python",
   "name": "python",
   "nbconvert_exporter": "python",
   "pygments_lexer": "ipython3",
   "version": "3.8.10"
  }
 },
 "nbformat": 4,
 "nbformat_minor": 5
}
