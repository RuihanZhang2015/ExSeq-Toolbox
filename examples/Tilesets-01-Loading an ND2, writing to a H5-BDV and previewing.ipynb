{
 "cells": [
  {
   "cell_type": "markdown",
   "id": "5f6b50ae",
   "metadata": {},
   "source": [
    "### Initialize a tileset from a ND2 file"
   ]
  },
  {
   "cell_type": "code",
   "execution_count": null,
   "id": "2875247e",
   "metadata": {},
   "outputs": [],
   "source": [
    "from exm.stitching.tileset import Tileset\n",
    "\n",
    "raw_data_path = '/mp/nas2/ruihan/20221017_alignment'\n",
    "nd2_file = f\"{raw_data_path}/20221017_alignment_slice1_final.nd2\"\n",
    "output_path = \"/tmp/\"\n",
    "\n",
    "# Provide the voxel size so that conversions between pixel and µm coordinates can happen\n",
    "ts=Tileset([0.1625*2, 0.1625*2, 0.4])\n",
    "\n",
    "# This specifies what ND2 file to use as reference but does not load all the tiles. It uses lazy loading where the\n",
    "# costly operation of loading all tiles in memory will happen only when needed. It initalizes offsets using the \n",
    "# metadata contained in the ND2 file (microscope's encoder data)\n",
    "\n",
    "ts.init_from_nd2(nd2_file)"
   ]
  },
  {
   "cell_type": "markdown",
   "id": "75114242",
   "metadata": {},
   "source": [
    "### Preview a Z-slice\n",
    "\n",
    "This is a preview of a reconstructed slice, that is of a slice where each tile has been placed according to its initial offset. This is a fast operation that still does not load the tiles in memory but just accesses the XY slices needed for each tile"
   ]
  },
  {
   "cell_type": "code",
   "execution_count": null,
   "id": "df205e6d",
   "metadata": {},
   "outputs": [],
   "source": [
    "from exm.utils import display_img as di \n",
    "\n",
    "zslice = ts.preview_nd2(150)\n",
    "di(zslice.T)"
   ]
  },
  {
   "cell_type": "markdown",
   "id": "24de83f5",
   "metadata": {},
   "source": [
    "### Load a downscaled version of the tiles in memory\n",
    "\n",
    "This loads all the tiles into memory. If possible, try to downscale it as a full dataset can quickly fill up your memory."
   ]
  },
  {
   "cell_type": "code",
   "execution_count": null,
   "id": "b74e1a72",
   "metadata": {},
   "outputs": [],
   "source": [
    "ts.load_all(downscale=[2,4,4])"
   ]
  },
  {
   "cell_type": "markdown",
   "id": "1e2ba76d",
   "metadata": {},
   "source": [
    "### Scale intensities globally and converts to 8bpp\n",
    "\n",
    "This finds an intensity range that is applicable accross the whole dataset and converts it to 8 bpp. This used to be useful for CysGAN segmentation."
   ]
  },
  {
   "cell_type": "code",
   "execution_count": null,
   "id": "ea807006",
   "metadata": {},
   "outputs": [],
   "source": [
    "ts.scale_intensity()"
   ]
  },
  {
   "cell_type": "code",
   "execution_count": null,
   "id": "f7cffc46",
   "metadata": {},
   "outputs": [],
   "source": [
    "di(ts.show_slice(50).T)"
   ]
  },
  {
   "cell_type": "markdown",
   "id": "fb0355ea",
   "metadata": {},
   "source": [
    "### Produce an output volume\n",
    "\n",
    "Produces a single numpy array containing the reconstructed 3D volume with each tile placed according to the offset"
   ]
  },
  {
   "cell_type": "code",
   "execution_count": null,
   "id": "0ed91a4b",
   "metadata": {},
   "outputs": [],
   "source": [
    "vol = ts.produce_output_volume()"
   ]
  },
  {
   "cell_type": "code",
   "execution_count": null,
   "id": "bc74d3f6",
   "metadata": {},
   "outputs": [],
   "source": [
    "vol.shape"
   ]
  },
  {
   "cell_type": "code",
   "execution_count": null,
   "id": "b9ef2dd5",
   "metadata": {},
   "outputs": [],
   "source": [
    "di(vol[50].T)"
   ]
  },
  {
   "cell_type": "markdown",
   "id": "be87dd97",
   "metadata": {},
   "source": [
    "### Writing a H5/BDV file\n",
    "\n",
    "This exports the tileset into a format that is readable by Fiji's BigStitcher plugin. The format is called H5 BigDataViewer. It consists of a H5 file containing all the tile images and a XML file containing the offsets information."
   ]
  },
  {
   "cell_type": "code",
   "execution_count": null,
   "id": "d84418fd",
   "metadata": {},
   "outputs": [],
   "source": [
    "ts.write_into_h5bdv(f\"{output_path}/example_output.h5\")"
   ]
  },
  {
   "cell_type": "markdown",
   "id": "0caadad2",
   "metadata": {},
   "source": [
    "## Steps to refine this stitching in Fiji\n",
    "\n",
    "### Headless mode\n",
    "See https://github.com/mitmedialab/fishexseq/tree/main/headless_fiji\n",
    "\n",
    "### Manual mode (through GUI)\n",
    "1. Open Fiji\n",
    "2. Do NOT use File->Open but rather go to Plugins->BigStitcher->BigStitcher\n",
    "3. Select the XML file that was generated next to the H5 file. In our case `/tmp/example_output.xml`\n",
    "4. Select all the tiles in the Stitching Explorer window\n",
    "5. Right-click->Stitching wizard\n",
    "6. Click OK with the default parameters\n",
    "7. Say 'Yes' to \"Switch to preview mode\"\n",
    "8. Click \"Apply & Run Global Optimization\"\n",
    "9. Select the default strategy and click OK\n",
    "10. Click \"Save\" (It will overwrite `/tmp/example_output.xml`)"
   ]
  },
  {
   "cell_type": "code",
   "execution_count": null,
   "id": "3295d096",
   "metadata": {},
   "outputs": [],
   "source": [
    "# At this stage `ts` still contains the old offsets\n",
    "\n",
    "di(ts.show_slice(50).T)"
   ]
  },
  {
   "cell_type": "code",
   "execution_count": null,
   "id": "76b84c21",
   "metadata": {},
   "outputs": [],
   "source": [
    "# We need to load the offset files produced by Fiji to overwrite the existing offsets\n",
    "ts.update_offsets(f\"{output_path}/example_output.xml\")"
   ]
  },
  {
   "cell_type": "code",
   "execution_count": null,
   "id": "952d6386",
   "metadata": {},
   "outputs": [],
   "source": [
    "# We now get a reconstructed volume with less visible seams\n",
    "di(ts.show_slice(50).T)"
   ]
  },
  {
   "cell_type": "code",
   "execution_count": null,
   "id": "e670f19a",
   "metadata": {},
   "outputs": [],
   "source": []
  }
 ],
 "metadata": {
  "kernelspec": {
   "display_name": "Python 3 (ipykernel)",
   "language": "python",
   "name": "python3"
  },
  "language_info": {
   "codemirror_mode": {
    "name": "ipython",
    "version": 3
   },
   "file_extension": ".py",
   "mimetype": "text/x-python",
   "name": "python",
   "nbconvert_exporter": "python",
   "pygments_lexer": "ipython3",
   "version": "3.9.7"
  }
 },
 "nbformat": 4,
 "nbformat_minor": 5
}
