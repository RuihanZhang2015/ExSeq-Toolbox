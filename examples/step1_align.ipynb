{
 "cells": [
  {
   "attachments": {},
   "cell_type": "markdown",
   "metadata": {},
   "source": [
    "### Prepare the args"
   ]
  },
  {
   "cell_type": "code",
   "execution_count": 2,
   "metadata": {},
   "outputs": [
    {
     "name": "stdout",
     "output_type": "stream",
     "text": [
      "align_init {(1, 0): [0, 100, 150], (1, 1): [50, 100, 400], (1, 2): [50, 60, 400], (1, 3): [100, 100, 400], (1, 4): [150, 100, 400], (1, 5): [200, 100, 400], (1, 6): [150, 0, 400], (1, 7): [200, 50, 400], (1, 8): [200, 50, 400], (1, 9): [200, 50, 400], (1, 10): [200, 50, 400], (1, 11): [200, 100, 400], (1, 12): [200, 50, 400], (1, 13): [100, 100, 400], (1, 14): [50, 100, 400], (1, 15): [0, 50, 400], (1, 16): [50, 100, 400], (1, 18): [50, 100, 400], (1, 19): [50, 50, 400], (1, 20): [0, 0, 400], (1, 21): [0, 50, 400], (1, 22): [50, 100, 400], (1, 23): [0, 50, 400], (1, 24): [0, 50, 100], (1, 25): [50, 100, 400], (1, 26): [0, 50, 400], (1, 27): [50, 100, 400], (1, 28): [50, 100, 400], (1, 29): [50, 100, 400], (2, 0): [50, 150, 50], (2, 1): [100, 200, 400], (2, 2): [100, 200, 400], (2, 3): [100, 200, 400], (2, 4): [150, 150, 400], (2, 5): [200, 180, 400], (2, 6): [200, 150, 400], (2, 7): [200, 150, 400], (2, 8): [200, 150, 400], (2, 9): [200, 100, 400], (2, 10): [200, 100, 400], (2, 11): [200, 120, 400], (2, 12): [100, 100, 400], (2, 13): [100, 150, 400], (2, 14): [50, 150, 400], (2, 15): [50, 150, 400], (2, 16): [100, 200, 400], (2, 18): [50, 150, 400], (2, 19): [50, 200, 400], (2, 20): [0, 150, 400], (2, 21): [0, 150, 400], (2, 22): [0, 150, 400], (2, 23): [0, 150, 400], (2, 24): [0, 150, 100], (2, 25): [0, 150, 400], (2, 26): [0, 150, 400], (2, 27): [25, 200, 400], (2, 28): [50, 200, 400], (2, 29): [50, 150, 400], (3, 0): [50, 150, 50], (3, 1): [100, 150, 400], (3, 2): [100, 150, 400], (3, 3): [150, 100, 400], (3, 4): [150, 100, 400], (3, 5): [150, 100, 400], (3, 6): [200, 125, 400], (3, 7): [200, 100, 400], (3, 8): [200, 125, 400], (3, 9): [200, 125, 400], (3, 10): [200, 100, 400], (3, 11): [200, 100, 400], (3, 12): [100, 100, 400], (3, 13): [100, 150, 400], (3, 14): [50, 150, 400], (3, 15): [50, 150, 400], (3, 16): [100, 200, 400], (3, 18): [50, 150, 400], (3, 19): [50, 200, 400], (3, 20): [0, 150, 400], (3, 21): [0, 150, 400], (3, 22): [0, 150, 400], (3, 23): [0, 150, 400], (3, 24): [0, 150, 100], (3, 25): [0, 150, 400], (3, 26): [0, 150, 400], (3, 27): [50, 200, 400], (3, 28): [50, 200, 400], (3, 29): [50, 200, 400], (4, 0): [50, 150, 50], (4, 1): [100, 150, 400], (4, 2): [100, 125, 400], (4, 3): [125, 100, 400], (4, 4): [150, 100, 400], (4, 5): [150, 100, 400], (4, 6): [200, 150, 400], (4, 7): [200, 150, 400], (4, 8): [200, 150, 400], (4, 9): [200, 125, 400], (4, 10): [200, 150, 400], (4, 11): [200, 150, 400], (4, 12): [150, 150, 400], (4, 13): [100, 150, 400], (4, 14): [50, 150, 400], (4, 15): [50, 150, 400], (4, 16): [100, 200, 400], (4, 18): [50, 175, 400], (4, 19): [50, 200, 400], (4, 20): [0, 150, 400], (4, 21): [0, 150, 400], (4, 22): [0, 150, 400], (4, 23): [0, 150, 400], (4, 24): [0, 150, 100], (4, 25): [0, 150, 400], (4, 26): [0, 150, 400], (4, 27): [50, 200, 400], (4, 28): [50, 200, 400], (4, 29): [50, 150, 400], (5, 0): [50, 130, 50], (5, 1): [100, 150, 400], (5, 2): [100, 125, 400], (5, 3): [125, 100, 400], (5, 4): [200, 150, 400], (5, 5): [200, 150, 400], (5, 6): [200, 150, 400], (5, 7): [200, 150, 400], (5, 8): [200, 150, 400], (5, 9): [200, 100, 400], (5, 10): [200, 100, 400], (5, 11): [200, 125, 400], (5, 12): [100, 150, 400], (5, 13): [100, 150, 400], (5, 14): [50, 150, 400], (5, 15): [50, 150, 400], (5, 16): [50, 150, 400], (5, 18): [50, 150, 400], (5, 19): [50, 150, 400], (5, 20): [0, 100, 400], (5, 21): [0, 150, 400], (5, 22): [50, 150, 400], (5, 23): [0, 125, 400], (5, 24): [0, 150, 100], (5, 25): [0, 150, 400], (5, 26): [0, 150, 400], (5, 27): [50, 200, 400], (5, 28): [50, 200, 400], (5, 29): [50, 150, 400], (6, 0): [50, 175, 50], (6, 1): [50, 150, 400], (6, 2): [100, 125, 400], (6, 3): [100, 100, 400], (6, 4): [200, 150, 400], (6, 5): [200, 150, 400], (6, 6): [200, 125, 400], (6, 7): [200, 100, 400], (6, 8): [200, 100, 400], (6, 9): [200, 100, 400], (6, 10): [200, 100, 400], (6, 11): [200, 125, 400], (6, 12): [100, 100, 400], (6, 13): [100, 150, 400], (6, 14): [100, 150, 400], (6, 15): [50, 150, 400], (6, 16): [50, 150, 400], (6, 18): [50, 150, 400], (6, 19): [50, 150, 400], (6, 20): [50, 150, 400], (6, 21): [0, 150, 400], (6, 22): [50, 175, 400], (6, 23): [0, 125, 400], (6, 24): [0, 100, 100], (6, 25): [50, 200, 400], (6, 26): [0, 100, 400], (6, 27): [50, 150, 400], (6, 28): [50, 200, 400], (6, 29): [50, 150, 400]}\n",
      "channel_names ['640', '594', '561', '488', '405']\n",
      "code2num {'a': '0', 'c': '1', 'g': '2', 't': '3'}\n",
      "colors ['red', 'yellow', 'green', 'blue']\n",
      "colorscales ['Reds', 'Oranges', 'Greens', 'Blues']\n",
      "fovs [0, 1, 2, 3, 4, 5, 6, 7, 8, 9, 10, 11, 12, 13, 14, 15, 16, 17, 18, 19, 20, 21, 22, 23, 24, 25, 26, 27, 28, 29]\n",
      "h5_path /mp/nas3/ruihan/20221218_zebrafish/processed/code{}/{}.h5\n",
      "h5_path_cropped /mp/nas3/ruihan/20221218_zebrafish/processed/code{}/{}_cropped.h5\n",
      "load_params <bound method Args.load_params of <exm.args.args.Args object at 0x7fb31826a970>>\n",
      "nd2_path /mp/nas3/ruihan/20221218_zebrafish/code{}/Channel{} SD_Seq000{}.nd2\n",
      "print <bound method Args.print of <exm.args.args.Args object at 0x7fb31826a970>>\n",
      "project_path /mp/nas3/ruihan/20221218_zebrafish/\n",
      "ref_code 0\n",
      "send_slack <bound method Args.send_slack of <exm.args.args.Args object at 0x7fb31826a970>>\n",
      "set_params <bound method Args.set_params of <exm.args.args.Args object at 0x7fb31826a970>>\n",
      "tform_path /mp/nas3/ruihan/20221218_zebrafish/processed/code{}/tforms/{}.txt\n",
      "thresholds [200, 300, 300, 200]\n",
      "tree <bound method Args.tree of <exm.args.args.Args object at 0x7fb31826a970>>\n"
     ]
    }
   ],
   "source": [
    "from exm.args import Args\n",
    "\n",
    "project_path = '/mp/nas3/ruihan/20221218_zebrafish/'\n",
    "\n",
    "# init args \n",
    "args = Args()\n",
    "# set args \n",
    "# args.set_params(project_path)\n",
    "# load args \n",
    "args.load_params('/mp/nas3/ruihan/20221218_zebrafish/args.pkl')\n",
    "\n",
    "args.print()\n",
    "\n",
    "# args.tree()"
   ]
  },
  {
   "attachments": {},
   "cell_type": "markdown",
   "metadata": {},
   "source": [
    "### Transform reference code"
   ]
  },
  {
   "cell_type": "code",
   "execution_count": 2,
   "metadata": {},
   "outputs": [],
   "source": [
    "from exm.align.align import transform_ref_code\n",
    "transform_ref_code(args,mode = 'all')"
   ]
  },
  {
   "attachments": {},
   "cell_type": "markdown",
   "metadata": {},
   "source": [
    "### Generate images to identify matching z slices"
   ]
  },
  {
   "cell_type": "code",
   "execution_count": 3,
   "metadata": {},
   "outputs": [],
   "source": [
    "from exm.align.align import identify_matching_z\n",
    "code_fov_pairs = [[1,0]]\n",
    "identify_matching_z(args,code_fov_pairs)"
   ]
  },
  {
   "cell_type": "markdown",
   "metadata": {},
   "source": [
    "### Aligh chunks"
   ]
  },
  {
   "cell_type": "code",
   "execution_count": 4,
   "metadata": {},
   "outputs": [],
   "source": [
    "from exm.align.align import align_truncated\n",
    "code_fov_pairs = [[1,0]]\n",
    "align_truncated(args, code_fov_pairs)"
   ]
  },
  {
   "cell_type": "markdown",
   "metadata": {},
   "source": [
    "### Check the quality of alignment"
   ]
  },
  {
   "cell_type": "code",
   "execution_count": 5,
   "metadata": {},
   "outputs": [],
   "source": [
    "from exm.align.align import inspect_align_truncated\n",
    "code_fov_pairs = [[1,0]]\n",
    "inspect_align_truncated(args, code_fov_pairs)"
   ]
  },
  {
   "cell_type": "markdown",
   "metadata": {},
   "source": [
    "### Transform others"
   ]
  },
  {
   "cell_type": "code",
   "execution_count": null,
   "metadata": {},
   "outputs": [],
   "source": [
    "from exm.align.align import transform_other_code\n",
    "code_fov_pairs = [[1,0]]\n",
    "transform_other_code(args,code_fov_pairs,mode='all')"
   ]
  },
  {
   "cell_type": "markdown",
   "metadata": {},
   "source": [
    "### List the directory"
   ]
  },
  {
   "cell_type": "code",
   "execution_count": 18,
   "metadata": {},
   "outputs": [],
   "source": [
    "args.tree()"
   ]
  }
 ],
 "metadata": {
  "kernelspec": {
   "display_name": "exm_env",
   "language": "python",
   "name": "python3"
  },
  "language_info": {
   "codemirror_mode": {
    "name": "ipython",
    "version": 3
   },
   "file_extension": ".py",
   "mimetype": "text/x-python",
   "name": "python",
   "nbconvert_exporter": "python",
   "pygments_lexer": "ipython3",
   "version": "3.9.16"
  },
  "orig_nbformat": 4,
  "vscode": {
   "interpreter": {
    "hash": "2b4ff08784eec6f39ec1d1d67f6a4ce2fb5ee9c8e2171eedf22863d46e65ae20"
   }
  }
 },
 "nbformat": 4,
 "nbformat_minor": 2
}
