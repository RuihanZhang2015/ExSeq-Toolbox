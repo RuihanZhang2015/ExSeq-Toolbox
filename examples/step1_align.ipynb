{
 "cells": [
  {
   "attachments": {},
   "cell_type": "markdown",
   "metadata": {},
   "source": [
    "### Prepare the args (functions)"
   ]
  },
  {
   "cell_type": "code",
   "execution_count": 1,
   "metadata": {},
   "outputs": [],
   "source": [
    "from exm.args import Args\n",
    "\n",
    "project_path = '/mp/nas3/ruihan/20221218_zebrafish/'\n",
    "\n",
    "# init args \n",
    "args = Args()\n",
    "# set args \n",
    "args.set_params(project_path)\n",
    "\n",
    "# load args \n",
    "# args.load_params('/mp/nas3/ruihan/20221218_zebrafish/args.pkl')\n",
    "\n",
    "# args.print()\n",
    "\n",
    "# args.tree()"
   ]
  },
  {
   "attachments": {},
   "cell_type": "markdown",
   "metadata": {},
   "source": [
    "### Transform reference code"
   ]
  },
  {
   "cell_type": "code",
   "execution_count": null,
   "metadata": {},
   "outputs": [],
   "source": [
    "from exm.align.align import transform_ref_code\n",
    "code_fov_pairs = [[0,0],[0,1]]\n",
    "transform_ref_code(args,code_fov_pairs,mode = 'all')"
   ]
  },
  {
   "attachments": {},
   "cell_type": "markdown",
   "metadata": {},
   "source": [
    "### Generate images to identify matching z slices"
   ]
  },
  {
   "cell_type": "code",
   "execution_count": null,
   "metadata": {},
   "outputs": [],
   "source": [
    "from exm.align.align import identify_matching_z\n",
    "code_fov_pairs = [[4,0],[4,1]]\n",
    "identify_matching_z(args,code_fov_pairs)"
   ]
  },
  {
   "attachments": {},
   "cell_type": "markdown",
   "metadata": {},
   "source": [
    "### Identify correlation lags between rounds "
   ]
  },
  {
   "cell_type": "code",
   "execution_count": null,
   "metadata": {},
   "outputs": [],
   "source": [
    "from exm.align.align import correlation_lags\n",
    "code_fov_pairs = [[4,0],[4,1]]\n",
    "correlation_lags(args,code_fov_pairs)"
   ]
  },
  {
   "attachments": {},
   "cell_type": "markdown",
   "metadata": {},
   "source": [
    "### Align chunks"
   ]
  },
  {
   "cell_type": "code",
   "execution_count": null,
   "metadata": {},
   "outputs": [],
   "source": [
    "from exm.align.align import align_truncated\n",
    "code_fov_pairs = [[1,0]]\n",
    "align_truncated(args, code_fov_pairs)"
   ]
  },
  {
   "cell_type": "markdown",
   "metadata": {},
   "source": [
    "### Check the quality of alignment"
   ]
  },
  {
   "cell_type": "code",
   "execution_count": null,
   "metadata": {},
   "outputs": [],
   "source": [
    "from exm.align.align import inspect_align_truncated\n",
    "code_fov_pairs = [[1,0]]\n",
    "inspect_align_truncated(args, code_fov_pairs)"
   ]
  },
  {
   "cell_type": "markdown",
   "metadata": {},
   "source": [
    "### Transform others"
   ]
  },
  {
   "cell_type": "code",
   "execution_count": 2,
   "metadata": {},
   "outputs": [
    {
     "name": "stdout",
     "output_type": "stream",
     "text": [
      "Remaining tasks to process : 0\n",
      "transform_other_function: code1,fov0\n",
      "No task left for Process-1\n"
     ]
    }
   ],
   "source": [
    "from exm.align.align import transform_other_code\n",
    "code_fov_pairs = [[1,0]]\n",
    "transform_other_code(args,code_fov_pairs,mode='all')"
   ]
  },
  {
   "cell_type": "markdown",
   "metadata": {},
   "source": [
    "### List the directory"
   ]
  },
  {
   "cell_type": "code",
   "execution_count": null,
   "metadata": {},
   "outputs": [],
   "source": [
    "args.tree()"
   ]
  }
 ],
 "metadata": {
  "kernelspec": {
   "display_name": "exm_env",
   "language": "python",
   "name": "python3"
  },
  "language_info": {
   "codemirror_mode": {
    "name": "ipython",
    "version": 3
   },
   "file_extension": ".py",
   "mimetype": "text/x-python",
   "name": "python",
   "nbconvert_exporter": "python",
   "pygments_lexer": "ipython3",
   "version": "3.11.0"
  },
  "orig_nbformat": 4,
  "vscode": {
   "interpreter": {
    "hash": "2b4ff08784eec6f39ec1d1d67f6a4ce2fb5ee9c8e2171eedf22863d46e65ae20"
   }
  }
 },
 "nbformat": 4,
 "nbformat_minor": 2
}
