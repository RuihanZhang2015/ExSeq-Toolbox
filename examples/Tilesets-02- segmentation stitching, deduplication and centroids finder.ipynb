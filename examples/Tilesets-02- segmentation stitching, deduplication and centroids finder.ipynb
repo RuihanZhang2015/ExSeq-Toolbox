{
 "cells": [
  {
   "cell_type": "code",
   "execution_count": null,
   "id": "b1c59b72",
   "metadata": {},
   "outputs": [],
   "source": [
    "from exm.stitching.tileset import Tileset\n",
    "from exm.utils import display_img as di \n",
    "import numpy as np\n",
    "\n",
    "masks_path = '/mp/nas2/mansour/20221017_alignment_masks/20221017_alignment_slice1_masks.h5'\n",
    "stitching_result = '/mp/nas3/fixstars/yves/zebrafish_data/20221017_alignment/stitching/slice1.xml'\n",
    "output_path = \"/tmp/\"\n",
    "\n",
    "ts=Tileset([0.1625, 0.1625, 0.4])"
   ]
  },
  {
   "cell_type": "markdown",
   "id": "a7e1f83d",
   "metadata": {},
   "source": [
    "### Reconstruct a stitched segmented dataset"
   ]
  },
  {
   "cell_type": "code",
   "execution_count": null,
   "id": "9cedd6fe",
   "metadata": {},
   "outputs": [],
   "source": [
    "# Initialize from a non BDV file format. The H5 file only contain tiles, we need to initialize the offsets from \n",
    "# another source\n",
    "\n",
    "segfile = f\"{masks_path}\"\n",
    "ts.init_from_h5(segfile, downscale=[5,5,2], progress=True)"
   ]
  },
  {
   "cell_type": "code",
   "execution_count": null,
   "id": "5250b984",
   "metadata": {},
   "outputs": [],
   "source": [
    "# To initialize offsets we use the XML file obtained from the stitching step /tmp/ if you went through the steps \n",
    "# of the previous notebook. Here we initialize from a known good result\n",
    "\n",
    "stitchfile = f\"{stitching_result}\"\n",
    "ts.update_offsets(stitchfile)"
   ]
  },
  {
   "cell_type": "code",
   "execution_count": null,
   "id": "08badbb2",
   "metadata": {},
   "outputs": [],
   "source": [
    "# Check if this looks good. \n",
    "\n",
    "di((ts.show_slice(51).T%256).astype(np.uint8))\n",
    "\n",
    "# Notice that some nuclei on the seams have multiple colors, we will fix that with the deduplication"
   ]
  },
  {
   "cell_type": "markdown",
   "id": "efbf17cf",
   "metadata": {},
   "source": [
    "### Deduplicate nuclei IDs"
   ]
  },
  {
   "cell_type": "code",
   "execution_count": null,
   "id": "ddb1131b",
   "metadata": {},
   "outputs": [],
   "source": [
    "_ = ts.dedup_segmentation_ids(progress=True)"
   ]
  },
  {
   "cell_type": "code",
   "execution_count": null,
   "id": "2732a8cc",
   "metadata": {},
   "outputs": [],
   "source": [
    "di((ts.show_slice(51).T%256).astype(np.uint8))"
   ]
  },
  {
   "cell_type": "markdown",
   "id": "36c2cce3",
   "metadata": {},
   "source": [
    "### Find centroids"
   ]
  },
  {
   "cell_type": "code",
   "execution_count": null,
   "id": "a7de8ac9",
   "metadata": {},
   "outputs": [],
   "source": [
    "centers = ts.get_centroids()"
   ]
  },
  {
   "cell_type": "code",
   "execution_count": null,
   "id": "b48b021a",
   "metadata": {},
   "outputs": [],
   "source": [
    "centers"
   ]
  },
  {
   "cell_type": "markdown",
   "id": "831c301b",
   "metadata": {},
   "source": [
    "### Local to global transformations\n",
    "\n",
    "Let's demonstrate how to transform an array of pipxel coordinates in the coordinate system of a tile into a global µm coordinate"
   ]
  },
  {
   "cell_type": "code",
   "execution_count": null,
   "id": "e85eb96e",
   "metadata": {},
   "outputs": [],
   "source": [
    "# This is a function to draw a 2D cross in a numpy image\n",
    "# TODO: add it to utils maybe?\n",
    "\n",
    "def draw_2d_cross(img, coords, color=255):\n",
    "    x = coords[0]\n",
    "    y = coords[1]\n",
    "    img[:,y-1:y+2,x-4:x+5]=0\n",
    "    img[:,y-4:y+5,x-1:x+2]=0\n",
    "    img[:,y,x-4:x+5]=color\n",
    "    img[:,y-4:y+5,x]=color"
   ]
  },
  {
   "cell_type": "code",
   "execution_count": null,
   "id": "5e9894c0",
   "metadata": {},
   "outputs": [],
   "source": [
    "# Here local coordinates are in pixel, the first coordinate indicates the tile number they belong to (here #5)\n",
    "\n",
    "local_coords = np.array([[5, 280,160, 50], \n",
    "                         [5, 300,100, 50]], dtype=float)"
   ]
  },
  {
   "cell_type": "code",
   "execution_count": null,
   "id": "3dadef11",
   "metadata": {},
   "outputs": [],
   "source": [
    "# Show the points in the individual tile \n",
    "\n",
    "a=np.copy(ts.tiles[5].img)\n",
    "for c in coords[:,1:3]:\n",
    "    draw_2d_cross(a,c.astype(int))\n",
    "di(a[50])"
   ]
  },
  {
   "cell_type": "code",
   "execution_count": null,
   "id": "16bad8d1",
   "metadata": {},
   "outputs": [],
   "source": [
    "# this multiplier allows the conversion from our images pixels into µm\n",
    "vox_size = np.array(ts.voxel_size)*np.array(ts.original_xyz_size)/np.array(ts[0].img.shape)[[2,1,0]]"
   ]
  },
  {
   "cell_type": "code",
   "execution_count": null,
   "id": "f7fa215c",
   "metadata": {},
   "outputs": [],
   "source": [
    "local_coords[:,1:] = local_coords[:,1:]*vox_size"
   ]
  },
  {
   "cell_type": "code",
   "execution_count": null,
   "id": "8a9a6e0d",
   "metadata": {},
   "outputs": [],
   "source": [
    "global_coords=ts.local_to_global(local_coords)"
   ]
  },
  {
   "cell_type": "code",
   "execution_count": null,
   "id": "0ed842b3",
   "metadata": {},
   "outputs": [],
   "source": [
    "b = ts.produce_output_volume()"
   ]
  },
  {
   "cell_type": "code",
   "execution_count": null,
   "id": "58ba5476",
   "metadata": {},
   "outputs": [],
   "source": [
    "for rr in r:\n",
    "    draw_2d_cross(b, (rr/vox_size).astype(int)[:2])"
   ]
  },
  {
   "cell_type": "code",
   "execution_count": null,
   "id": "53f1b768",
   "metadata": {},
   "outputs": [],
   "source": [
    "# global_coords, once transformed into global pixel coordinates by dividing them by vox_size, show in the correct\n",
    "# place in the reconstructed volume\n",
    "\n",
    "di(b[50])"
   ]
  },
  {
   "cell_type": "code",
   "execution_count": null,
   "id": "dd5b600a",
   "metadata": {},
   "outputs": [],
   "source": []
  },
  {
   "cell_type": "code",
   "execution_count": null,
   "id": "9c5da5f1",
   "metadata": {},
   "outputs": [],
   "source": []
  },
  {
   "cell_type": "code",
   "execution_count": null,
   "id": "e0efdf3d",
   "metadata": {},
   "outputs": [],
   "source": []
  }
 ],
 "metadata": {
  "kernelspec": {
   "display_name": "Python 3 (ipykernel)",
   "language": "python",
   "name": "python3"
  },
  "language_info": {
   "codemirror_mode": {
    "name": "ipython",
    "version": 3
   },
   "file_extension": ".py",
   "mimetype": "text/x-python",
   "name": "python",
   "nbconvert_exporter": "python",
   "pygments_lexer": "ipython3",
   "version": "3.9.7"
  }
 },
 "nbformat": 4,
 "nbformat_minor": 5
}
